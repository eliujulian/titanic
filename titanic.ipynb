{
 "cells": [
  {
   "cell_type": "markdown",
   "metadata": {
    "collapsed": true
   },
   "source": [
    "\n",
    "# Women and Children first...? The Sinking of the RMS Titanic\n",
    "\n",
    "A statistical analysis by Eliu Schmitt (mail@eliu.de).\n",
    "\n",
    "On April 14th, 1912 the RMS Titanic on the maiden voyage from Southampton to New York hit an iceberg in the Atlantic. Over 1.500 of the 2,224 passengers and crew on board died when the ship sank. Due to the high number of casualties this is one the biggest accidents in civil shipping.\n",
    "\n",
    "The high number of casualties rises many question. First and foremost, why so few people could be saved. While this question is manly attributed to a limited number of lifeboats, it also raises questions, who was saved? What are the deciding factors for a passenger to be saved? I'll primarily look at the title of this study: \"Women and Children first...\", a code of conduct to save women and children first in life threatening situations. Additional I follow the question if the Rich were saved ahead of the poor."
   ]
  },
  {
   "cell_type": "code",
   "execution_count": 1,
   "metadata": {
    "collapsed": false
   },
   "outputs": [
    {
     "name": "stderr",
     "output_type": "stream",
     "text": [
      "C:\\Users\\Eliu\\Anaconda2\\envs\\py35\\lib\\site-packages\\IPython\\html.py:14: ShimWarning: The `IPython.html` package has been deprecated. You should import from `notebook` instead. `IPython.html.widgets` has moved to `ipywidgets`.\n",
      "  \"`IPython.html.widgets` has moved to `ipywidgets`.\", ShimWarning)\n"
     ]
    }
   ],
   "source": [
    "# Python3.5\n",
    "\n",
    "import csv\n",
    "import numpy as np\n",
    "import pandas as pd\n",
    "import matplotlib.pyplot as plt\n",
    "import seaborn as sns\n",
    "from pprint import pprint\n",
    "from collections import Counter\n",
    "from scipy.stats import ttest_ind, tmean, tstd, ttest_ind_from_stats, linregress, norm, t, pearsonr, chi2_contingency\n",
    "\n",
    "\n",
    "# data = list(csv.reader(open('titanic-data.csv', 'r'), delimiter=','))\n",
    "# data = pd.read_csv('titanic-data.csv')\n",
    "\n",
    "\n",
    "def get_st(c):\n",
    "    \"\"\"\n",
    "    A helper function that returns the appropriate str representation of 1, 2, and 3: \n",
    "    '1': '1st', '2': '2nd', '3': '3rd'\n",
    "    \"\"\"\n",
    "    return ['1st', '2nd', '3rd'][c - 1]\n",
    "\n",
    "\n",
    "def get_percentage(a, b, r=2, with_brackets=True):\n",
    "    \"\"\"\n",
    "    A helper function to return a percentage for two values.\n",
    "    returns a / b * 100\n",
    "    Default rounding is 2. Default is with brackets.\n",
    "    \"\"\"\n",
    "    if with_brackets:\n",
    "        return \"(\" + \"{:.2f}\".format(round(a / b * 100, r)) + \" %)\"\n",
    "    else:\n",
    "        return \"{:.2f}\".format(round(a / b * 100, r)) + \" %\""
   ]
  },
  {
   "cell_type": "markdown",
   "metadata": {},
   "source": [
    "## About the data"
   ]
  },
  {
   "cell_type": "markdown",
   "metadata": {},
   "source": [
    "The dataset contained information on 891 passengers. Therefore, a relevant portion of the passengers is covered. No data on staff is included in the source."
   ]
  },
  {
   "cell_type": "code",
   "execution_count": 2,
   "metadata": {
    "collapsed": false
   },
   "outputs": [
    {
     "data": {
      "text/html": [
       "<div>\n",
       "<table border=\"1\" class=\"dataframe\">\n",
       "  <thead>\n",
       "    <tr style=\"text-align: right;\">\n",
       "      <th></th>\n",
       "      <th>PassengerId</th>\n",
       "      <th>Survived</th>\n",
       "      <th>Pclass</th>\n",
       "      <th>Name</th>\n",
       "      <th>Sex</th>\n",
       "      <th>Age</th>\n",
       "      <th>SibSp</th>\n",
       "      <th>Parch</th>\n",
       "      <th>Ticket</th>\n",
       "      <th>Fare</th>\n",
       "      <th>Cabin</th>\n",
       "      <th>Embarked</th>\n",
       "    </tr>\n",
       "  </thead>\n",
       "  <tbody>\n",
       "    <tr>\n",
       "      <th>0</th>\n",
       "      <td>1</td>\n",
       "      <td>0</td>\n",
       "      <td>3</td>\n",
       "      <td>Braund, Mr. Owen Harris</td>\n",
       "      <td>male</td>\n",
       "      <td>22.0</td>\n",
       "      <td>1</td>\n",
       "      <td>0</td>\n",
       "      <td>A/5 21171</td>\n",
       "      <td>7.2500</td>\n",
       "      <td>NaN</td>\n",
       "      <td>S</td>\n",
       "    </tr>\n",
       "    <tr>\n",
       "      <th>1</th>\n",
       "      <td>2</td>\n",
       "      <td>1</td>\n",
       "      <td>1</td>\n",
       "      <td>Cumings, Mrs. John Bradley (Florence Briggs Th...</td>\n",
       "      <td>female</td>\n",
       "      <td>38.0</td>\n",
       "      <td>1</td>\n",
       "      <td>0</td>\n",
       "      <td>PC 17599</td>\n",
       "      <td>71.2833</td>\n",
       "      <td>C85</td>\n",
       "      <td>C</td>\n",
       "    </tr>\n",
       "    <tr>\n",
       "      <th>2</th>\n",
       "      <td>3</td>\n",
       "      <td>1</td>\n",
       "      <td>3</td>\n",
       "      <td>Heikkinen, Miss. Laina</td>\n",
       "      <td>female</td>\n",
       "      <td>26.0</td>\n",
       "      <td>0</td>\n",
       "      <td>0</td>\n",
       "      <td>STON/O2. 3101282</td>\n",
       "      <td>7.9250</td>\n",
       "      <td>NaN</td>\n",
       "      <td>S</td>\n",
       "    </tr>\n",
       "    <tr>\n",
       "      <th>3</th>\n",
       "      <td>4</td>\n",
       "      <td>1</td>\n",
       "      <td>1</td>\n",
       "      <td>Futrelle, Mrs. Jacques Heath (Lily May Peel)</td>\n",
       "      <td>female</td>\n",
       "      <td>35.0</td>\n",
       "      <td>1</td>\n",
       "      <td>0</td>\n",
       "      <td>113803</td>\n",
       "      <td>53.1000</td>\n",
       "      <td>C123</td>\n",
       "      <td>S</td>\n",
       "    </tr>\n",
       "    <tr>\n",
       "      <th>4</th>\n",
       "      <td>5</td>\n",
       "      <td>0</td>\n",
       "      <td>3</td>\n",
       "      <td>Allen, Mr. William Henry</td>\n",
       "      <td>male</td>\n",
       "      <td>35.0</td>\n",
       "      <td>0</td>\n",
       "      <td>0</td>\n",
       "      <td>373450</td>\n",
       "      <td>8.0500</td>\n",
       "      <td>NaN</td>\n",
       "      <td>S</td>\n",
       "    </tr>\n",
       "  </tbody>\n",
       "</table>\n",
       "</div>"
      ],
      "text/plain": [
       "   PassengerId  Survived  Pclass  \\\n",
       "0            1         0       3   \n",
       "1            2         1       1   \n",
       "2            3         1       3   \n",
       "3            4         1       1   \n",
       "4            5         0       3   \n",
       "\n",
       "                                                Name     Sex   Age  SibSp  \\\n",
       "0                            Braund, Mr. Owen Harris    male  22.0      1   \n",
       "1  Cumings, Mrs. John Bradley (Florence Briggs Th...  female  38.0      1   \n",
       "2                             Heikkinen, Miss. Laina  female  26.0      0   \n",
       "3       Futrelle, Mrs. Jacques Heath (Lily May Peel)  female  35.0      1   \n",
       "4                           Allen, Mr. William Henry    male  35.0      0   \n",
       "\n",
       "   Parch            Ticket     Fare Cabin Embarked  \n",
       "0      0         A/5 21171   7.2500   NaN        S  \n",
       "1      0          PC 17599  71.2833   C85        C  \n",
       "2      0  STON/O2. 3101282   7.9250   NaN        S  \n",
       "3      0            113803  53.1000  C123        S  \n",
       "4      0            373450   8.0500   NaN        S  "
      ]
     },
     "execution_count": 2,
     "metadata": {},
     "output_type": "execute_result"
    }
   ],
   "source": [
    "df = pd.read_csv('titanic-data.csv')\n",
    "df.head()"
   ]
  },
  {
   "cell_type": "markdown",
   "metadata": {},
   "source": [
    "A unique passenger-id is provided for every entry. There seems to be no more information than individually identifying the person."
   ]
  },
  {
   "cell_type": "code",
   "execution_count": 3,
   "metadata": {
    "collapsed": false
   },
   "outputs": [
    {
     "name": "stdout",
     "output_type": "stream",
     "text": [
      "Only unique PassengerId: True\n"
     ]
    }
   ],
   "source": [
    "# Data preparation\n",
    "\n",
    "# PassengerId\n",
    "# No changes on the passenger id. Each passenger Id unique\n",
    "print(\"Only unique PassengerId:\", len(Counter(df['PassengerId'])) == len(df))"
   ]
  },
  {
   "cell_type": "markdown",
   "metadata": {},
   "source": [
    "Survival in the accident is registered for every passenger. The values were converted into True (did survive) and False (did not survive)."
   ]
  },
  {
   "cell_type": "code",
   "execution_count": 4,
   "metadata": {
    "collapsed": false
   },
   "outputs": [
    {
     "name": "stdout",
     "output_type": "stream",
     "text": [
      "Counter({0: 549, 1: 342})\n",
      "Counter({False: 549, True: 342})\n"
     ]
    }
   ],
   "source": [
    "# Survived\n",
    "\n",
    "# Data is provided for all passengers either as 0: did not survive or 1: did survive. No other values where found.\n",
    "print(Counter(df['Survived']))\n",
    "\n",
    "# Converted column into bool: 0: False and 1: True\n",
    "df['Survived'] = df['Survived'] == 1\n",
    "print(Counter(df['Survived']))"
   ]
  },
  {
   "cell_type": "markdown",
   "metadata": {},
   "source": [
    "A passenger class ('Pclass') is registered for every passenger."
   ]
  },
  {
   "cell_type": "code",
   "execution_count": 5,
   "metadata": {
    "collapsed": false
   },
   "outputs": [
    {
     "name": "stdout",
     "output_type": "stream",
     "text": [
      "3    491\n",
      "1    216\n",
      "2    184\n",
      "Name: Pclass, dtype: int64\n"
     ]
    }
   ],
   "source": [
    "# Passenger class ('Pclass')\n",
    "# There where three booking classes. No values other than 1, 2 or 3 were found.\n",
    "print(df['Pclass'].value_counts())"
   ]
  },
  {
   "cell_type": "markdown",
   "metadata": {},
   "source": [
    "A unique name is provided for every passenger. Therefore, it is  unlikely that there are double entries."
   ]
  },
  {
   "cell_type": "code",
   "execution_count": 6,
   "metadata": {
    "collapsed": false
   },
   "outputs": [
    {
     "name": "stdout",
     "output_type": "stream",
     "text": [
      "Only unique names: True\n"
     ]
    }
   ],
   "source": [
    "# Name\n",
    "# A Name was given for every Passenger, all names were unique\n",
    "print(\"Only unique names:\", len(Counter(df['Name'])) == len(df))"
   ]
  },
  {
   "cell_type": "markdown",
   "metadata": {},
   "source": [
    "Gender is stated as either 'male' or 'female' and given for every passenger."
   ]
  },
  {
   "cell_type": "code",
   "execution_count": 7,
   "metadata": {
    "collapsed": false
   },
   "outputs": [
    {
     "data": {
      "text/plain": [
       "male      577\n",
       "female    314\n",
       "Name: Sex, dtype: int64"
      ]
     },
     "execution_count": 7,
     "metadata": {},
     "output_type": "execute_result"
    }
   ],
   "source": [
    "# Sex\n",
    "# The gender is given as 'male'or 'female', there is data for every passengerdf['Sex']))\n",
    "df['Sex'].value_counts()"
   ]
  },
  {
   "cell_type": "code",
   "execution_count": null,
   "metadata": {
    "collapsed": true
   },
   "outputs": [],
   "source": []
  },
  {
   "cell_type": "markdown",
   "metadata": {},
   "source": [
    "Age is given either as a integer number, a float or a blank. Values as a number are normal entries, with a decimal point estimations, blank are unknown. Values are not given for all passengers. I used the full dataset for all purposes that do not include age and a reduced dataset that drops the missing values but retains the estimates for all purposes that relate to the age of the passengers.\n",
    "\n",
    "All values are within a reasonable range."
   ]
  },
  {
   "cell_type": "code",
   "execution_count": 8,
   "metadata": {
    "collapsed": false
   },
   "outputs": [
    {
     "name": "stdout",
     "output_type": "stream",
     "text": [
      "Total age values: 714\n",
      "Missing values: 177\n",
      "Estimated values: 25\n",
      "Max age: 80.0 Min age: 0.42\n"
     ]
    }
   ],
   "source": [
    "# Age\n",
    "print(\"Total age values:\", sum(df['Age'] > 0))\n",
    "print(\"Missing values:\", len(df) - sum(df['Age'] > 0))\n",
    "print(\"Estimated values:\", sum(df['Age'] % 1 > 0))\n",
    "\n",
    "# The values are within a reasonable range (0.4 - 80 years)\n",
    "df_age = df.dropna(subset=['Age'])\n",
    "print(\"Max age:\", df_age['Age'].max(), \"Min age:\", df_age['Age'].min())"
   ]
  },
  {
   "cell_type": "markdown",
   "metadata": {},
   "source": [
    "The number of siblings and spouses on board was given as a number ('SibSp'). All numbers are within a reasonable range. The number of parents and children on board are separately given as number ('Parch'). All number are with a reasonable range. A new column was added with the total number of relatives on board."
   ]
  },
  {
   "cell_type": "code",
   "execution_count": 9,
   "metadata": {
    "collapsed": false
   },
   "outputs": [
    {
     "name": "stdout",
     "output_type": "stream",
     "text": [
      "Siblings and Spouses\n",
      "Count: 891 Mean: 0.523007856341 Std.: 1.10274343229 Max: 8 Min: 0\n",
      "\n",
      "Parent and Children\n",
      "Count: 891 Mean: 0.381593714927 Std.: 0.80605722113 Max: 6 Min: 0\n",
      "\n",
      "Relatives\n",
      "Count: 891 Mean: 0.904601571268 Std.: 1.61345854136 Max: 10 Min: 0\n",
      "\n",
      "Count traveling with relatives: 354\n",
      "Count traveling without relatives: 537\n"
     ]
    }
   ],
   "source": [
    "df['Relatives'] = df['SibSp'] + df['Parch']\n",
    "\n",
    "def passenger_basic_stats(group, label):\n",
    "    \"\"\"\n",
    "    Prints some basic stats about a passenger group.\n",
    "    \"\"\"\n",
    "    print(label)\n",
    "    print(\"Count:\", len(group), \"Mean:\", group.mean(), \"Std.:\", group.std(), \"Max:\", group.max(), \"Min:\", group.min())\n",
    "    print(\"\")\n",
    "\n",
    "# SibSp - Siblings and Spouses on board\n",
    "passenger_basic_stats(df['SibSp'], \"Siblings and Spouses\")\n",
    "\n",
    "# Parch - Parents and Children on board\n",
    "passenger_basic_stats(df['Parch'], \"Parent and Children\")\n",
    "\n",
    "# Relatives\n",
    "passenger_basic_stats(df['Relatives'], \"Relatives\")\n",
    "\n",
    "print(\"Count traveling with relatives:\", sum(df['Relatives'] > 0))\n",
    "print(\"Count traveling without relatives:\", sum(df['Relatives'] == 0))"
   ]
  },
  {
   "cell_type": "markdown",
   "metadata": {},
   "source": [
    "The ticket number seems to follow different systems. Various numbers are registered for more than one passenger, so the ticket number is not unique. The same number probably means that the passengers booked the trip together, but the count of single ticket number at 547 seems to be quite high, given the assumption, that passengers would probably not go on the voyage alone. Thought it is nearly the same number as people traveling without any relatives on board. The unique tickets were mostly held by passengers without registered relatives on board. The others might be people who travel with friends or are unmarried couples. I added another column that indicates, if the passenger holds an individual ticket."
   ]
  },
  {
   "cell_type": "code",
   "execution_count": 10,
   "metadata": {
    "collapsed": false
   },
   "outputs": [
    {
     "name": "stdout",
     "output_type": "stream",
     "text": [
      "Count not unique ticket holder: 344\n",
      "Count unique ticket holder: 547\n",
      "\n",
      "Only for passengers traveling without relatives:\n",
      "Count not unique ticket holder: 75\n",
      "Count unique ticket holder: 462\n"
     ]
    }
   ],
   "source": [
    "df['IndividualTicket'] = df['Ticket'].isin([k for k, v in Counter(df['Ticket']).items() if v == 1])\n",
    "\n",
    "print('Count not unique ticket holder:', df['IndividualTicket'].value_counts()[False])\n",
    "print('Count unique ticket holder:',   df['IndividualTicket'].value_counts()[True])\n",
    "print(\"\")\n",
    "print(\"Only for passengers traveling without relatives:\")\n",
    "print('Count not unique ticket holder:', df.where(df['Relatives'] == 0)['IndividualTicket'].value_counts()[False])\n",
    "print('Count unique ticket holder:', df.where(df['Relatives'] == 0)['IndividualTicket'].value_counts()[True])"
   ]
  },
  {
   "cell_type": "markdown",
   "metadata": {},
   "source": [
    "The data for fare per passenger seems to be also inconsistent. Some have registered no fare at all (0 Pounds). The maximum of the fares is a first class ticket but about 6 times more expensive than a first class ticket on average. The fares therefore probably sometimes include other passengers as well. There could also be some \"free rides\", maybe somebody has won a ticket."
   ]
  },
  {
   "cell_type": "code",
   "execution_count": 11,
   "metadata": {
    "collapsed": false
   },
   "outputs": [
    {
     "name": "stdout",
     "output_type": "stream",
     "text": [
      "Mean Fare: 32.2042079686\n",
      "Median Fare: 14.4542\n",
      "Max. Fare 512.3292\n",
      "Count Fare 0: 15\n",
      "Mean 1st class: 84.1546875\n",
      "Mean 2nd class: 20.6621831522\n",
      "Mean 3rd class: 13.6755501018\n"
     ]
    }
   ],
   "source": [
    "print(\"Mean Fare:\", df['Fare'].mean())\n",
    "print(\"Median Fare:\", df['Fare'].median())\n",
    "print(\"Max. Fare\", df['Fare'].max())\n",
    "print(\"Count Fare 0:\", sum(df['Fare'] == 0))\n",
    "print(\"Mean 1st class:\", df.where(df['Pclass'] == 1)['Fare'].mean())\n",
    "print(\"Mean 2nd class:\", df.where(df['Pclass'] == 2)['Fare'].mean())\n",
    "print(\"Mean 3rd class:\", df.where(df['Pclass'] == 3)['Fare'].mean())"
   ]
  },
  {
   "cell_type": "markdown",
   "metadata": {},
   "source": [
    "Most passenger data do not register a cabin. It is not fully clear, if this is just missing data, or if these passengers did not have a cabin (but rather a dormitory or similar). I tend to the missing data, since with the second option we would expect that the 1st class passenger all have a cabin, but here are also quite some without any entry. The cabin data could be used to estimate the length of the way to the lifeboats. Although, it isn't clear, if the passengers actually stayed at the cabin at the time and there is quite some data missing, therefore this is probably too difficult."
   ]
  },
  {
   "cell_type": "code",
   "execution_count": 12,
   "metadata": {
    "collapsed": false
   },
   "outputs": [
    {
     "name": "stdout",
     "output_type": "stream",
     "text": [
      "Cabin not specified: 687\n",
      "Cabin specified: 204\n"
     ]
    }
   ],
   "source": [
    "print(\"Cabin not specified:\", df['Cabin'].isnull().sum())\n",
    "print(\"Cabin specified:\", df['Cabin'].count())"
   ]
  },
  {
   "cell_type": "markdown",
   "metadata": {},
   "source": [
    "The port of embarkation was specified for all passengers."
   ]
  },
  {
   "cell_type": "markdown",
   "metadata": {},
   "source": [
    "## The passengers\n",
    "\n",
    "The following provides a look into the structure of the passenger group."
   ]
  },
  {
   "cell_type": "markdown",
   "metadata": {},
   "source": [
    "### Gender\n",
    "\n",
    "There are more men than women traveling. The women are more likely to travel in a higher passenger class."
   ]
  },
  {
   "cell_type": "code",
   "execution_count": 13,
   "metadata": {
    "collapsed": false
   },
   "outputs": [],
   "source": [
    "def gender_by_class(g, c):\n",
    "    \"\"\"\n",
    "    prints distribution of gender by passenger class (1, 2 or 3) and group of passengers.\n",
    "    arg g: dataframe\n",
    "    \"\"\"\n",
    "    if c in [1, 2, 3]:\n",
    "        print(\"{} class\".format(get_st(c)))\n",
    "    \n",
    "        subset = g.where(g['Pclass'] == c).dropna(subset=['Pclass'])\n",
    "        print(\"Count:\", len(subset),\n",
    "              \"Men:\", subset['Sex'].value_counts()['male'],\n",
    "              get_percentage(subset['Sex'].value_counts()['male'], len(subset)),\n",
    "              \"Women:\", subset['Sex'].value_counts()['female'],\n",
    "              get_percentage(subset['Sex'].value_counts()['female'], \n",
    "                             len(subset)))\n",
    "    else:\n",
    "        print(\"All passengers\")\n",
    "        subset = g\n",
    "        print(\"Count:\", len(subset),\n",
    "              \"Men:\", subset['Sex'].value_counts()['male'],\n",
    "              get_percentage(subset['Sex'].value_counts()['male'], len(subset)),\n",
    "              \"Women:\", subset['Sex'].value_counts()['female'],\n",
    "              get_percentage(subset['Sex'].value_counts()['female'], \n",
    "                             len(subset)))\n",
    "    print(\"\")\n",
    "\n",
    "    \n",
    "def gender_all_classes(group, label=\"\"):\n",
    "    if label:\n",
    "        print(label)\n",
    "        print(\"\")\n",
    "    gender_by_class(group, None)\n",
    "    gender_by_class(group, 1)\n",
    "    gender_by_class(group, 2)\n",
    "    gender_by_class(group, 3)    "
   ]
  },
  {
   "cell_type": "code",
   "execution_count": 14,
   "metadata": {
    "collapsed": false
   },
   "outputs": [
    {
     "name": "stdout",
     "output_type": "stream",
     "text": [
      "All passengers\n",
      "Count: 891 Men: 577 (64.76 %) Women: 314 (35.24 %)\n",
      "\n",
      "1st class\n",
      "Count: 216 Men: 122 (56.48 %) Women: 94 (43.52 %)\n",
      "\n",
      "2nd class\n",
      "Count: 184 Men: 108 (58.70 %) Women: 76 (41.30 %)\n",
      "\n",
      "3rd class\n",
      "Count: 491 Men: 347 (70.67 %) Women: 144 (29.33 %)\n",
      "\n"
     ]
    }
   ],
   "source": [
    "gender_all_classes(df)"
   ]
  },
  {
   "cell_type": "code",
   "execution_count": 15,
   "metadata": {
    "collapsed": false
   },
   "outputs": [
    {
     "data": {
      "image/png": "[encoded data removed]",
      "text/plain": [
       "<matplotlib.figure.Figure at 0x1af4a66feb8>"
      ]
     },
     "metadata": {},
     "output_type": "display_data"
    }
   ],
   "source": [
    "%matplotlib inline\n",
    "\n",
    "def count_by_class_and_gender(c, g):\n",
    "    \"\"\"\n",
    "    returns number if passenger if class and gender is specified.\n",
    "    \"\"\"\n",
    "    subset = df.where(df['Pclass'] == c).dropna(subset=['Pclass'])\n",
    "    return subset['Sex'].value_counts()[g]\n",
    "\n",
    "menCount = [count_by_class_and_gender(c, 'male') for c in [1, 2, 3]]\n",
    "womenCount = [count_by_class_and_gender(c, 'female') for c in [1, 2, 3]]\n",
    "width = 0.5 \n",
    "\n",
    "p1 = plt.bar([0.5, 1.5, 2.5], menCount, width, color='#38A5C9')\n",
    "p2 = plt.bar([0.5, 1.5, 2.5], womenCount, width, color='#EB6060',\n",
    "             bottom=menCount)\n",
    "\n",
    "plt.ylabel('Count')\n",
    "plt.xlabel('Passenger Class')\n",
    "plt.title('Count by class and gender')\n",
    "plt.xticks((.25, 0.75, 1.75, 2.75, 3.25), ('', '1st', '2nd', '3rd'))\n",
    "plt.yticks(np.arange(0, 650, 100))\n",
    "plt.legend((p1[0], p2[0]), ('Men', 'Women'), loc=\"upper left\")\n",
    "plt.show()"
   ]
  },
  {
   "cell_type": "markdown",
   "metadata": {},
   "source": [
    "### Age\n",
    "\n",
    "The distribution shows that the majority of the passengers are between 20 and 30 years old."
   ]
  },
  {
   "cell_type": "code",
   "execution_count": 16,
   "metadata": {
    "collapsed": false
   },
   "outputs": [
    {
     "data": {
      "image/png": "[encoded data removed]",
      "text/plain": [
       "<matplotlib.figure.Figure at 0x1af46407cf8>"
      ]
     },
     "metadata": {},
     "output_type": "display_data"
    }
   ],
   "source": [
    "%matplotlib inline\n",
    "\n",
    "def passenger_age_stats(c, label):\n",
    "    \"\"\"\n",
    "    Print basic passenger stats on age for a group of passengers.\n",
    "    \n",
    "    arg c: pandas.dataframe\n",
    "    arg label: string, label of the printout\n",
    "    \"\"\"\n",
    "    c = c['Age']\n",
    "    print(label)\n",
    "    print(\"Count:\", len(c), \"Max Age:\", int(c.max()), \"Mean Age:\", round(c.mean(), 1), \"Std.Dev.:\", round(c.std(), 1))   \n",
    "    print(\"\")\n",
    "\n",
    "plt.hist(df_age['Age'], label='Count Age All Passengers')\n",
    "plt.title('Distribution Age All Passengers')\n",
    "plt.xlabel('Age')\n",
    "plt.ylabel('Count')\n",
    "plt.show()"
   ]
  },
  {
   "cell_type": "markdown",
   "metadata": {},
   "source": [
    "Male passengers tend to be ca. 3 years older on average. But the distribution seems to follow mostly the same pattern."
   ]
  },
  {
   "cell_type": "code",
   "execution_count": 17,
   "metadata": {
    "collapsed": false
   },
   "outputs": [
    {
     "name": "stdout",
     "output_type": "stream",
     "text": [
      "Women\n",
      "Count: 261 Max Age: 63 Mean Age: 27.9 Std.Dev.: 14.1\n",
      "\n",
      "Men\n",
      "Count: 453 Max Age: 80 Mean Age: 30.7 Std.Dev.: 14.7\n",
      "\n"
     ]
    },
    {
     "data": {
      "image/png": "[encoded data removed]",
      "text/plain": [
       "<matplotlib.figure.Figure at 0x1af4b0265f8>"
      ]
     },
     "metadata": {},
     "output_type": "display_data"
    }
   ],
   "source": [
    "%matplotlib inline\n",
    "\n",
    "passenger_age_stats(df_age.where(df_age['Sex'] == 'female').dropna(subset=['Sex']), \"Women\")\n",
    "passenger_age_stats(df_age.where(df_age['Sex'] == 'male').dropna(subset=['Sex']), \"Men\")\n",
    "\n",
    "plt.hist(df_age.where(df_age['Sex'] == 'female').dropna(subset=['Sex'])['Age'], color='red', alpha=0.5, label='Women')\n",
    "plt.hist(df_age.where(df_age['Sex'] == 'male').dropna(subset=['Sex'])['Age'], color='blue', alpha=0.4, label='Men')\n",
    "plt.title('Difference in age between genders')\n",
    "plt.legend()\n",
    "plt.xlabel('Age')\n",
    "plt.ylabel('Count')\n",
    "plt.show()"
   ]
  },
  {
   "cell_type": "markdown",
   "metadata": {},
   "source": [
    "The age varies highly by passenger class with a higher average age at a higher booking class."
   ]
  },
  {
   "cell_type": "code",
   "execution_count": 18,
   "metadata": {
    "collapsed": false
   },
   "outputs": [
    {
     "name": "stdout",
     "output_type": "stream",
     "text": [
      "All passengers\n",
      "Count: 714 Max Age: 80 Mean Age: 29.7 Std.Dev.: 14.5\n",
      "\n",
      "1st passenger class\n",
      "Count: 186 Max Age: 80 Mean Age: 38.2 Std.Dev.: 14.8\n",
      "\n",
      "2nd passenger class\n",
      "Count: 173 Max Age: 70 Mean Age: 29.9 Std.Dev.: 14.0\n",
      "\n",
      "3rd passenger class\n",
      "Count: 355 Max Age: 74 Mean Age: 25.1 Std.Dev.: 12.5\n",
      "\n"
     ]
    }
   ],
   "source": [
    "passenger_age_stats(df_age, \"All passengers\")\n",
    "passenger_age_stats(df_age.where(df_age['Pclass'] == 1).dropna(subset=['Pclass']), \"1st passenger class\")\n",
    "passenger_age_stats(df_age.where(df_age['Pclass'] == 2).dropna(subset=['Pclass']), \"2nd passenger class\")\n",
    "passenger_age_stats(df_age.where(df_age['Pclass'] == 3).dropna(subset=['Pclass']), \"3rd passenger class\")"
   ]
  },
  {
   "cell_type": "markdown",
   "metadata": {},
   "source": [
    "### Fare\n",
    "\n",
    "The fare the passenger payed is generally higher if he's traveling in a better passenger class. While the passenger class might be an generally estimation of the socio-economic status of the passenger, the actual fare might even hold more insight since the values are more varied."
   ]
  },
  {
   "cell_type": "code",
   "execution_count": 19,
   "metadata": {
    "collapsed": false
   },
   "outputs": [
    {
     "name": "stdout",
     "output_type": "stream",
     "text": [
      "Correlation (Pearsons R) Passenger Class and Fare\n",
      "-0.55\n"
     ]
    }
   ],
   "source": [
    "print(\"Correlation (Pearsons R) Passenger Class and Fare\")\n",
    "print(round(pearsonr(df['Pclass'],df['Fare'])[0], 2))"
   ]
  },
  {
   "cell_type": "markdown",
   "metadata": {},
   "source": [
    "The distribution of the ticket price in the second and third class shows that most ticket cost between 7.5 and 15.0 Pounds. There seems to be a second peak with the second class but that is probably due to more passengers billed on one ticket because the higher price also leads to a higher number of relatives on board. Therefore, the passenger was probably not traveling more expensive but just paying for more passengers. In that context the price of the ticket seems to be not a better indicator for social status."
   ]
  },
  {
   "cell_type": "code",
   "execution_count": 20,
   "metadata": {
    "collapsed": false
   },
   "outputs": [
    {
     "data": {
      "text/plain": [
       "<matplotlib.legend.Legend at 0x1af4b0ddcc0>"
      ]
     },
     "execution_count": 20,
     "metadata": {},
     "output_type": "execute_result"
    },
    {
     "data": {
      "image/png": "[encoded data removed]",
      "text/plain": [
       "<matplotlib.figure.Figure at 0x1af4a65be10>"
      ]
     },
     "metadata": {},
     "output_type": "display_data"
    }
   ],
   "source": [
    "df.where(df['Pclass'] == 3).dropna(subset=['Pclass'])['Fare'].hist(bins=25, alpha=0.8, label=\"3rd class\")\n",
    "df.where(df['Pclass'] == 2).dropna(subset=['Pclass'])['Fare'].hist(bins=25, alpha=0.7, label=\"2nd class\")\n",
    "plt.xlabel('Ticket price')\n",
    "plt.ylabel('Count')\n",
    "plt.legend()"
   ]
  },
  {
   "cell_type": "code",
   "execution_count": 21,
   "metadata": {
    "collapsed": false
   },
   "outputs": [
    {
     "name": "stdout",
     "output_type": "stream",
     "text": [
      "2nd class ticket less than 15.0 pounds - Average relatives on board: 0.12\n",
      "2nd class ticket more than 15.0 pounds - Average relatives on board: 1.48\n"
     ]
    }
   ],
   "source": [
    "print(\"2nd class ticket less than 15.0 pounds - Average relatives on board:\", \n",
    "     round(df.where(df['Pclass'] == 2).dropna(subset=['Pclass']).where(df['Fare'] < 15).dropna(subset=['Fare'])['Relatives'].mean(), 2))\n",
    "print(\"2nd class ticket more than 15.0 pounds - Average relatives on board:\", \n",
    "     round(df.where(df['Pclass'] == 2).dropna(subset=['Pclass']).where(df['Fare'] >= 15).dropna(subset=['Fare'])['Relatives'].mean(), 2))\n"
   ]
  },
  {
   "cell_type": "code",
   "execution_count": 22,
   "metadata": {
    "collapsed": false
   },
   "outputs": [
    {
     "name": "stdout",
     "output_type": "stream",
     "text": [
      "Mean price: 84.15\n",
      "Median price: 60.29\n",
      "\n",
      "Count price < 200: 20\n"
     ]
    },
    {
     "data": {
      "image/png": "[encoded data removed]",
      "text/plain": [
       "<matplotlib.figure.Figure at 0x1af4b0e1a90>"
      ]
     },
     "metadata": {},
     "output_type": "display_data"
    }
   ],
   "source": [
    "df.where(df['Pclass'] == 1).dropna(subset=['Pclass'])['Fare'].hist(bins=40, alpha=0.8, label=\"1st class\")\n",
    "plt.xlabel('Ticket price')\n",
    "plt.ylabel('Count')\n",
    "plt.legend()\n",
    "print(\"Mean price:\", round(df.where(df['Pclass'] == 1).dropna(subset=['Pclass'])['Fare'].mean(), 2))\n",
    "print(\"Median price:\", round(df.where(df['Pclass'] == 1).dropna(subset=['Pclass'])['Fare'].median(), 2))\n",
    "print(\"\")\n",
    "print(\"Count price < 200:\", \n",
    "      len(df.where(df['Pclass'] == 1).dropna(subset=['Pclass']).where(df['Fare'] >= 200).dropna(subset=['Fare'])))"
   ]
  },
  {
   "cell_type": "markdown",
   "metadata": {},
   "source": [
    "The price varies more in the first class. The very high prices could by outliers or there could be some very special cabins that are much more expensive. The mean seems to be a better measurement of centrality here. The ticket holders of 200 Pounds and above might be of much higher social status than the other passengers. For a statistical analysis the group seems to be very small. I would not expect meaningful statistical results from that group."
   ]
  },
  {
   "cell_type": "code",
   "execution_count": 23,
   "metadata": {
    "collapsed": false
   },
   "outputs": [
    {
     "name": "stdout",
     "output_type": "stream",
     "text": [
      "Fares by class\n",
      "1st class\n",
      "Mean: 84.15 Median: 60.29\n",
      "2nd class\n",
      "Mean: 20.66 Median: 14.25\n",
      "3rd class\n",
      "Mean: 13.68 Median: 8.05\n"
     ]
    }
   ],
   "source": [
    "print(\"Fares by class\")\n",
    "print(\"1st class\")\n",
    "print(\"Mean:\", round(df.where(df['Pclass'] == 1).dropna(subset=['Pclass'])['Fare'].mean(), 2), \n",
    "      \"Median:\", round(df.where(df['Pclass'] == 1).dropna(subset=['Pclass'])['Fare'].median(), 2))\n",
    "print(\"2nd class\")\n",
    "print(\"Mean:\", round(df.where(df['Pclass'] == 2).dropna(subset=['Pclass'])['Fare'].mean(), 2), \n",
    "      \"Median:\", df.where(df['Pclass'] == 2).dropna(subset=['Pclass'])['Fare'].median())\n",
    "print(\"3rd class\")\n",
    "print(\"Mean:\", round(df.where(df['Pclass'] == 3).dropna(subset=['Pclass'])['Fare'].mean(), 2), \n",
    "      \"Median:\", df.where(df['Pclass'] == 3).dropna(subset=['Pclass'])['Fare'].median())"
   ]
  },
  {
   "cell_type": "markdown",
   "metadata": {},
   "source": [
    "The difference in the mean or median fare payed by the passengers differs by class. The difference between 2nd and 3rd class seems to be a lot lower than between 1st and the 2nd or 3rd class. Therefore, the socioeconomic status of the 2nd and 3rd class might be not so far away from each other. The median price at the second class and the mean price of the 3rd class are even nearly the same (14.3 and 13.7). Therefore, it is to be expected that there is some mix, and that people of a lower status got a ticket in the second class. This could lead to the conclusion that the relevant socio-economic status of passengers in 2nd class and 3rd class might be more or less the same. Although analysis of the survivors will show that there are relevant differences between the second and the third class. Therefore, I will use passenger class as an estimation of status and wealth."
   ]
  },
  {
   "cell_type": "markdown",
   "metadata": {},
   "source": [
    "## The Survivors\n",
    "\n",
    "Out of all passengers in the list only 342 survived. A lot more women survived, even given that there were more men than women in the group. The survivors are roughly evenly distributed between the three booking classes with a somewhat higher count towards 1st class and a lower towards the 2nd class. Compared to the people traveling in that class in total the percentage show an advantage of the higher booking classes. Age in general seems to have only little effect, but looking at children ages 7 years or younger shows a different picture."
   ]
  },
  {
   "cell_type": "code",
   "execution_count": 24,
   "metadata": {
    "collapsed": false
   },
   "outputs": [],
   "source": [
    "df_alive = df.where(df['Survived'] == True).dropna(subset=['Survived'])\n",
    "df_alive_age = df_age.where(df['Survived'] == True).dropna(subset=['Survived'])\n",
    "\n",
    "def survival_statistic(count_survivors, count_total, label):\n",
    "    print(label)\n",
    "    print(count_survivors, \"out of\", count_total, \"survived\", get_percentage(count_survivors, count_total) + \".\")\n",
    "    print(\"\")"
   ]
  },
  {
   "cell_type": "markdown",
   "metadata": {},
   "source": [
    "### Gender"
   ]
  },
  {
   "cell_type": "code",
   "execution_count": 25,
   "metadata": {
    "collapsed": false
   },
   "outputs": [
    {
     "name": "stdout",
     "output_type": "stream",
     "text": [
      "Only surviving passengers\n",
      "\n",
      "All passengers\n",
      "Count: 342 Men: 109 (31.87 %) Women: 233 (68.13 %)\n",
      "\n",
      "1st class\n",
      "Count: 136 Men: 45 (33.09 %) Women: 91 (66.91 %)\n",
      "\n",
      "2nd class\n",
      "Count: 87 Men: 17 (19.54 %) Women: 70 (80.46 %)\n",
      "\n",
      "3rd class\n",
      "Count: 119 Men: 47 (39.50 %) Women: 72 (60.50 %)\n",
      "\n"
     ]
    }
   ],
   "source": [
    "gender_all_classes(df_alive, \"Only surviving passengers\")"
   ]
  },
  {
   "cell_type": "code",
   "execution_count": 26,
   "metadata": {
    "collapsed": false
   },
   "outputs": [
    {
     "data": {
      "image/png": "[encoded data removed]",
      "text/plain": [
       "<matplotlib.figure.Figure at 0x1af4b20e860>"
      ]
     },
     "metadata": {},
     "output_type": "display_data"
    }
   ],
   "source": [
    "%matplotlib inline\n",
    "\n",
    "def count_by_class_and_gender_s(c, g):\n",
    "    \"\"\"\n",
    "    returns number if passenger if class and gender is specified.\n",
    "    \"\"\"\n",
    "    subset = df_alive.where(df_alive['Pclass'] == c).dropna(subset=['Pclass'])\n",
    "    return subset['Sex'].value_counts()[g]\n",
    "\n",
    "menCount = [count_by_class_and_gender_s(c, 'male') for c in [1, 2, 3]]\n",
    "womenCount = [count_by_class_and_gender_s(c, 'female') for c in [1, 2, 3]]\n",
    "width = 0.5 \n",
    "\n",
    "p1 = plt.bar([0.5, 1.5, 2.5], menCount, width, color='#38A5C9')\n",
    "p2 = plt.bar([0.5, 1.5, 2.5], womenCount, width, color='#EB6060',\n",
    "             bottom=menCount)\n",
    "\n",
    "plt.ylabel('Count')\n",
    "plt.title('Count by class and gender (Survivors)')\n",
    "plt.xticks((.25, 0.75, 1.75, 2.75, 3.25), ('', '1st', '2nd', '3rd'))\n",
    "plt.yticks(np.arange(0, 250, 100))\n",
    "plt.legend((p1[0], p2[0]), ('Men', 'Women'), loc=\"upper left\")\n",
    "plt.xlabel('Passenger class')\n",
    "plt.show()"
   ]
  },
  {
   "cell_type": "markdown",
   "metadata": {},
   "source": [
    "Women had much better chance of survival."
   ]
  },
  {
   "cell_type": "code",
   "execution_count": 27,
   "metadata": {
    "collapsed": false
   },
   "outputs": [
    {
     "name": "stdout",
     "output_type": "stream",
     "text": [
      "Surviving Men\n",
      "109 out of 577 survived (18.89 %).\n",
      "\n",
      "Surviving Women\n",
      "233 out of 314 survived (74.20 %).\n",
      "\n"
     ]
    }
   ],
   "source": [
    "survival_statistic(len(df_alive.where(df_alive['Sex'] == 'male').dropna(subset=['Sex'])),\n",
    "                   len(df.where(df['Sex'] == 'male').dropna(subset=['Sex'])),\n",
    "                   \"Surviving Men\")\n",
    "survival_statistic(len(df_alive.where(df_alive['Sex'] == 'female').dropna(subset=['Sex'])),\n",
    "                   len(df.where(df['Sex'] == 'female').dropna(subset=['Sex'])),\n",
    "                   \"Surviving Women\")\n"
   ]
  },
  {
   "cell_type": "code",
   "execution_count": 28,
   "metadata": {
    "collapsed": false
   },
   "outputs": [
    {
     "data": {
      "image/png": "[encoded data removed]",
      "text/plain": [
       "<matplotlib.figure.Figure at 0x1af4b27ecf8>"
      ]
     },
     "metadata": {},
     "output_type": "display_data"
    }
   ],
   "source": [
    "%matplotlib inline\n",
    "\n",
    "survivors = [len(df_alive.where(df_alive['Sex'] == 'male').dropna(subset=['Sex'])), \n",
    "             len(df_alive.where(df_alive['Sex'] == 'female').dropna(subset=['Sex']))]\n",
    "dead = [len(df.where(df['Sex'] == 'male').dropna(subset=['Sex'])) - len(df_alive.where(df_alive['Sex'] == 'male').dropna(subset=['Sex'])),\n",
    "        len(df.where(df['Sex'] == 'female').dropna(subset=['Sex'])) - len(df_alive.where(df_alive['Sex'] == 'female').dropna(subset=['Sex']))]\n",
    "\n",
    "width = 0.5 \n",
    "\n",
    "p1 = plt.bar([0.5, 1.5], dead, width, color='black')\n",
    "p2 = plt.bar([0.5, 1.5], survivors, width, color='white',\n",
    "             bottom=dead)\n",
    "\n",
    "plt.ylabel('Count')\n",
    "plt.title('Survivors by gender')\n",
    "plt.xticks((.25, 0.75, 1.75, 2.25), ('', 'Men', 'Women'))\n",
    "plt.yticks(np.arange(0, 800, 100))\n",
    "plt.legend((p1[0], p2[0]), ('Not survived', 'Survived'), loc=\"upper left\")\n",
    "plt.xlabel('Gender')\n",
    "plt.show()"
   ]
  },
  {
   "cell_type": "code",
   "execution_count": 29,
   "metadata": {
    "collapsed": false
   },
   "outputs": [
    {
     "data": {
      "image/png": "[encoded data removed]",
      "text/plain": [
       "<matplotlib.figure.Figure at 0x1af4b014b00>"
      ]
     },
     "metadata": {},
     "output_type": "display_data"
    }
   ],
   "source": [
    "x = df.where(df['Sex'] == 'female').dropna(subset=['Sex'])['Pclass']\n",
    "y = df_alive.where(df['Sex'] == 'female').dropna(subset=['Sex'])['Pclass']\n",
    "x = (x.value_counts()[1], x.value_counts()[2], x.value_counts()[3])\n",
    "y = (y.value_counts()[1], y.value_counts()[2], y.value_counts()[3])\n",
    "\n",
    "h1 = plt.bar((0.5, 1.5, 2.5), x, label='all women', width=0.5, color='blue', alpha=0.8)\n",
    "h2 = plt.bar((0.5, 1.5, 2.5), y, label='surviving women', width=0.45, color='green')\n",
    "\n",
    "plt.xticks((.25, 0.75, 1.75, 2.75, 3.25), ('', '1st', '2nd', '3rd'))\n",
    "plt.legend(loc=\"upper left\")\n",
    "plt.xlabel('Passenger class')\n",
    "plt.ylabel('Count')\n",
    "plt.title('Surviving vs. all women by class')\n",
    "plt.show()"
   ]
  },
  {
   "cell_type": "code",
   "execution_count": 30,
   "metadata": {
    "collapsed": false
   },
   "outputs": [
    {
     "data": {
      "image/png": "[encoded data removed]",
      "text/plain": [
       "<matplotlib.figure.Figure at 0x1af4b0c8128>"
      ]
     },
     "metadata": {},
     "output_type": "display_data"
    }
   ],
   "source": [
    "x = df.where(df['Sex'] == 'male').dropna(subset=['Sex'])['Pclass']\n",
    "y = df_alive.where(df['Sex'] == 'male').dropna(subset=['Sex'])['Pclass']\n",
    "x = (x.value_counts()[1], x.value_counts()[2], x.value_counts()[3])\n",
    "y = (y.value_counts()[1], y.value_counts()[2], y.value_counts()[3])\n",
    "\n",
    "h1 = plt.bar((0.5, 1.5, 2.5), x, label='all men', width=0.5, color='blue', alpha=0.8)\n",
    "h2 = plt.bar((0.5, 1.5, 2.5), y, label='surviving men', width=0.45, color='green')\n",
    "\n",
    "plt.xticks((.25, 0.75, 1.75, 2.75, 3.25), ('', '1st', '2nd', '3rd'))\n",
    "plt.legend(loc=\"upper left\")\n",
    "plt.xlabel('Passenger class')\n",
    "plt.ylabel('Count')\n",
    "plt.title('Surviving vs. all men by class')\n",
    "plt.show()"
   ]
  },
  {
   "cell_type": "markdown",
   "metadata": {},
   "source": [
    "Women form the 1st and 2nd passenger class had a much better chance than from the 3rd class. Nearly all women of 1st and 2nd class survived, while only half of the women traveling in 3rd class survived.\n",
    "\n",
    "The had a lower chance of survival but the chances for the 3rd class are a lot worse again."
   ]
  },
  {
   "cell_type": "markdown",
   "metadata": {},
   "source": [
    "### Percentage of survivors by class relative to total passengers in that class"
   ]
  },
  {
   "cell_type": "code",
   "execution_count": 31,
   "metadata": {
    "collapsed": false
   },
   "outputs": [
    {
     "name": "stdout",
     "output_type": "stream",
     "text": [
      "Survivors 1st class\n",
      "136 out of 216 survived (62.96 %).\n",
      "\n",
      "Survivors 2nd class\n",
      "87 out of 184 survived (47.28 %).\n",
      "\n",
      "Survivors 3rd class\n",
      "119 out of 491 survived (24.24 %).\n",
      "\n"
     ]
    }
   ],
   "source": [
    "survival_statistic(len(df_alive.where(df_alive['Pclass'] == 1).dropna(subset=['Pclass'])),\n",
    "                   len(df.where(df['Pclass'] == 1).dropna(subset=['Pclass'])),\n",
    "                   \"Survivors 1st class\")\n",
    "survival_statistic(len(df_alive.where(df_alive['Pclass'] == 2).dropna(subset=['Pclass'])),\n",
    "                   len(df.where(df['Pclass'] == 2).dropna(subset=['Pclass'])),\n",
    "                   \"Survivors 2nd class\")\n",
    "survival_statistic(len(df_alive.where(df_alive['Pclass'] == 3).dropna(subset=['Pclass'])),\n",
    "                   len(df.where(df['Pclass'] == 3).dropna(subset=['Pclass'])),\n",
    "                   \"Survivors 3rd class\")"
   ]
  },
  {
   "cell_type": "code",
   "execution_count": 32,
   "metadata": {
    "collapsed": false
   },
   "outputs": [
    {
     "data": {
      "image/png": "[encoded data removed]",
      "text/plain": [
       "<matplotlib.figure.Figure at 0x1af4b2cdf98>"
      ]
     },
     "metadata": {},
     "output_type": "display_data"
    }
   ],
   "source": [
    "%matplotlib inline\n",
    "\n",
    "survivors = [136, 87, 119]\n",
    "dead = [216 - 136, 184 - 87, 491 - 119]\n",
    "width = 0.5 \n",
    "\n",
    "p1 = plt.bar([0.5, 1.5, 2.5], dead, width, color='black')\n",
    "p2 = plt.bar([0.5, 1.5, 2.5], survivors, width, color='white',\n",
    "             bottom=dead)\n",
    "\n",
    "plt.ylabel('Count')\n",
    "plt.title('Survivors by class')\n",
    "plt.xticks((.25, 0.75, 1.75, 2.75, 3.25), ('', '1st', '2nd', '3rd'))\n",
    "plt.yticks(np.arange(0, 860, 100))\n",
    "plt.legend((p1[0], p2[0]), ('Not survived', 'Survived'), loc=\"upper left\")\n",
    "plt.xlabel('Class')\n",
    "plt.show()"
   ]
  },
  {
   "cell_type": "markdown",
   "metadata": {},
   "source": [
    "Survival was more likely in the 1st and 2nd class than in the third."
   ]
  },
  {
   "cell_type": "markdown",
   "metadata": {},
   "source": [
    "### Age\n",
    "\n",
    "The average age of the survivors is only slightly lower than for all passengers."
   ]
  },
  {
   "cell_type": "code",
   "execution_count": 33,
   "metadata": {
    "collapsed": false
   },
   "outputs": [
    {
     "name": "stdout",
     "output_type": "stream",
     "text": [
      "All passengers\n",
      "Count: 714 Max Age: 80 Mean Age: 29.7 Std.Dev.: 14.5\n",
      "\n",
      "All survivors\n",
      "Count: 290 Max Age: 80 Mean Age: 28.3 Std.Dev.: 15.0\n",
      "\n"
     ]
    }
   ],
   "source": [
    "passenger_age_stats(df_age, \"All passengers\")\n",
    "passenger_age_stats(df_alive_age, \"All survivors\")"
   ]
  },
  {
   "cell_type": "markdown",
   "metadata": {},
   "source": [
    "### Survivors in different age groups"
   ]
  },
  {
   "cell_type": "code",
   "execution_count": 34,
   "metadata": {
    "collapsed": false
   },
   "outputs": [
    {
     "name": "stdout",
     "output_type": "stream",
     "text": [
      "All passengers\n",
      "290 out of 714 survived (40.62 %).\n",
      "\n",
      "Children (0 - 7 years)\n",
      "34 out of 50 survived (68.00 %).\n",
      "\n",
      "Young (7 to 18 years)\n",
      "36 out of 89 survived (40.45 %).\n",
      "\n",
      "Adults (18 to 60 years)\n",
      "213 out of 549 survived (38.80 %).\n",
      "\n",
      "Adults (18 to 30 years)\n",
      "86 out of 245 survived (35.10 %).\n",
      "\n",
      "Adults (30 to 60 years)\n",
      "127 out of 304 survived (41.78 %).\n",
      "\n",
      "Older passengers (60 + years)\n",
      "7 out of 26 survived (26.92 %).\n",
      "\n"
     ]
    }
   ],
   "source": [
    "survival_statistic(len(df_alive_age),\n",
    "                   len(df_age),\n",
    "                   \"All passengers\")\n",
    "survival_statistic(len(df_alive_age.where(df_alive_age['Age'] <= 7).dropna(subset=['Age'])),\n",
    "                   len(df_age.where(df_age['Age'] <= 7).dropna(subset=['Age'])),\n",
    "                   \"Children (0 - 7 years)\")\n",
    "survival_statistic(len(df_alive_age.where(df_alive_age['Age'] <= 18).where(df_alive_age['Age'] > 7).dropna(subset=['Age'])),\n",
    "                   len(df_age.where(df_age['Age'] <= 18).where(df_age['Age']> 7).dropna(subset=['Age'])),\n",
    "                   \"Young (7 to 18 years)\")\n",
    "survival_statistic(len(df_alive_age.where(df_alive_age['Age'] < 60).where(df_alive_age['Age'] > 18).dropna(subset=['Age'])),\n",
    "                   len(df_age.where(df_age['Age'] < 60).where(df_age['Age']> 18).dropna(subset=['Age'])),\n",
    "                   \"Adults (18 to 60 years)\")\n",
    "survival_statistic(len(df_alive_age.where(df_alive_age['Age'] < 30).where(df_alive_age['Age'] > 18).dropna(subset=['Age'])),\n",
    "                   len(df_age.where(df_age['Age'] < 30).where(df_age['Age']> 18).dropna(subset=['Age'])),\n",
    "                   \"Adults (18 to 30 years)\")\n",
    "survival_statistic(len(df_alive_age.where(df_alive_age['Age'] < 60).where(df_alive_age['Age'] >= 30).dropna(subset=['Age'])),\n",
    "                   len(df_age.where(df_age['Age'] < 60).where(df_age['Age']>= 30).dropna(subset=['Age'])),\n",
    "                   \"Adults (30 to 60 years)\")\n",
    "survival_statistic(len(df_alive_age.where(df_alive_age['Age'] >= 60).dropna(subset=['Age'])),\n",
    "                   len(df_age.where(df_age['Age'] >= 60).dropna(subset=['Age'])),\n",
    "                   \"Older passengers (60 + years)\")\n"
   ]
  },
  {
   "cell_type": "code",
   "execution_count": 35,
   "metadata": {
    "collapsed": false
   },
   "outputs": [
    {
     "data": {
      "image/png": "[encoded data removed]",
      "text/plain": [
       "<matplotlib.figure.Figure at 0x1af4b288630>"
      ]
     },
     "metadata": {},
     "output_type": "display_data"
    }
   ],
   "source": [
    "%matplotlib inline\n",
    "\n",
    "survivors = [40.62, 68, 40.45, 38.60, 35.10, 41.78, 26.92]\n",
    "dead = [100 - n for n in survivors]\n",
    "width = 0.5 \n",
    "\n",
    "p1 = plt.bar([0.5, 1.5, 2.5, 3.5, 4.5, 5.5, 6.5], dead, width, color='black')\n",
    "p2 = plt.bar([0.5, 1.5, 2.5, 3.5, 4.5, 5.5, 6.5], survivors, width, color='white',\n",
    "             bottom=dead)\n",
    "\n",
    "plt.ylabel('%')\n",
    "plt.title('Survivors by age group')\n",
    "plt.xticks((.25, 0.75, 1.75, 2.75, 3.75, 4.75, 5.75, 6.75, 7.25), ('', 'All', ' < 7 y', '7- 18', '18 - 60',  '18 - 30', '30 - 60', '> 60'))\n",
    "plt.yticks(np.arange(0, 130, 10))\n",
    "plt.legend((p1[0], p2[0]), ('Not survived', 'Survived'), loc=\"upper left\")\n",
    "plt.xlabel('Age Group')\n",
    "plt.show()"
   ]
  },
  {
   "cell_type": "markdown",
   "metadata": {},
   "source": [
    "The chance of survival is a lot better for children and a bit worse for old people."
   ]
  },
  {
   "cell_type": "code",
   "execution_count": 36,
   "metadata": {
    "collapsed": false,
    "scrolled": true
   },
   "outputs": [
    {
     "data": {
      "image/png": "[encoded data removed]",
      "text/plain": [
       "<matplotlib.figure.Figure at 0x1af4afb6f28>"
      ]
     },
     "metadata": {},
     "output_type": "display_data"
    }
   ],
   "source": [
    "x = df_age.where(df_age['Age'] <= 7).dropna(subset=['Age'])['Pclass']\n",
    "y = df_alive_age.where(df_alive_age['Age'] <= 7).dropna(subset=['Age'])['Pclass']\n",
    "x = (x.value_counts()[1], x.value_counts()[2], x.value_counts()[3])\n",
    "y = (y.value_counts()[1], y.value_counts()[2], y.value_counts()[3])\n",
    "\n",
    "h1 = plt.bar((0.5, 1.5, 2.5), x, label='all children', width=0.5, color='blue', alpha=0.6)\n",
    "h2 = plt.bar((0.5, 1.5, 2.5), y, label='surviving children', width=0.45, color='green', alpha=0.8)\n",
    "\n",
    "plt.xticks((.25, 0.75, 1.75, 2.75, 3.25), ('', '1st', '2nd', '3rd'))\n",
    "plt.legend(loc=\"upper left\")\n",
    "plt.xlabel('Passenger class')\n",
    "plt.ylabel('Count')\n",
    "plt.title('Surviving vs. all children by class')\n",
    "plt.show()"
   ]
  },
  {
   "cell_type": "markdown",
   "metadata": {},
   "source": [
    "The children wo died where almost all from the 3rd class."
   ]
  },
  {
   "cell_type": "code",
   "execution_count": 37,
   "metadata": {
    "collapsed": false
   },
   "outputs": [
    {
     "data": {
      "image/png": "[encoded data removed]",
      "text/plain": [
       "<matplotlib.figure.Figure at 0x1af4b026780>"
      ]
     },
     "metadata": {},
     "output_type": "display_data"
    }
   ],
   "source": [
    "x = df_age.where(df_age['Age'] <= 7).dropna(subset=['Age'])['Sex']\n",
    "y = df_alive_age.where(df_alive_age['Age'] <= 7).dropna(subset=['Age'])['Sex']\n",
    "x = (x.value_counts()['male'], x.value_counts()['female'])\n",
    "y = (y.value_counts()['male'], y.value_counts()['female'])\n",
    "\n",
    "h1 = plt.bar((0.5, 1.5), x, label='all children', width=0.5, color='blue', alpha=0.6)\n",
    "h2 = plt.bar((0.5, 1.5), y, label='surviving children', width=0.45, color='green', alpha=0.8)\n",
    "\n",
    "plt.xticks((.25, 0.75, 1.75, 2.25), ('', 'Boys', 'Girls'))\n",
    "plt.legend()\n",
    "plt.xlabel('Passenger class')\n",
    "plt.ylabel('Count')\n",
    "plt.title('Surviving vs. all children by class')\n",
    "plt.show()"
   ]
  },
  {
   "cell_type": "markdown",
   "metadata": {},
   "source": [
    "Girls seem to have a little bit better chance of survival."
   ]
  },
  {
   "cell_type": "markdown",
   "metadata": {},
   "source": [
    "At a first look gender and booking class seems to have the biggest effect on the chance of survival. The age of the passenger also seems to have some effect, as the average age of the survivors is lower than of the whole group. At both ends of the age range (children and old passengers) there seems to be big variation. More than two out of three children survived, while only about one out of four older passengers survived."
   ]
  },
  {
   "cell_type": "markdown",
   "metadata": {},
   "source": [
    "## Statistical analysis"
   ]
  },
  {
   "cell_type": "markdown",
   "metadata": {},
   "source": [
    "### Gender\n",
    "\n",
    "Since gender and survival are categorical data I'm testing the dependence or independence of the variables 'Gender' and 'Survival' with a Chi Squared Test.\n",
    "\n",
    "$H_{0}:$ Variable 'Sex' ('Gender') and Variable 'Survival' are independent.\n",
    "\n",
    "$H_{alt}:$ Variable 'Sex' ('Gender') and Variable 'Survival' are not independent.\n",
    "\n",
    "The distribution tables already show a dependece between the two variables. The test shows a very low p-value. At an alpha-level of 0.05 this is considered highly significant. Therefore, the null hypothesis can be rejected. "
   ]
  },
  {
   "cell_type": "code",
   "execution_count": 38,
   "metadata": {
    "collapsed": false
   },
   "outputs": [
    {
     "data": {
      "text/plain": [
       "Sex     Survived\n",
       "female  True        0.742038\n",
       "        False       0.257962\n",
       "male    False       0.811092\n",
       "        True        0.188908\n",
       "Name: Survived, dtype: float64"
      ]
     },
     "execution_count": 38,
     "metadata": {},
     "output_type": "execute_result"
    }
   ],
   "source": [
    "df.groupby('Sex')['Survived'].value_counts(normalize = True)"
   ]
  },
  {
   "cell_type": "code",
   "execution_count": 39,
   "metadata": {
    "collapsed": false
   },
   "outputs": [
    {
     "data": {
      "text/html": [
       "<div>\n",
       "<table border=\"1\" class=\"dataframe\">\n",
       "  <thead>\n",
       "    <tr style=\"text-align: right;\">\n",
       "      <th>Sex</th>\n",
       "      <th>female</th>\n",
       "      <th>male</th>\n",
       "    </tr>\n",
       "    <tr>\n",
       "      <th>Survived</th>\n",
       "      <th></th>\n",
       "      <th></th>\n",
       "    </tr>\n",
       "  </thead>\n",
       "  <tbody>\n",
       "    <tr>\n",
       "      <th>False</th>\n",
       "      <td>81</td>\n",
       "      <td>468</td>\n",
       "    </tr>\n",
       "    <tr>\n",
       "      <th>True</th>\n",
       "      <td>233</td>\n",
       "      <td>109</td>\n",
       "    </tr>\n",
       "  </tbody>\n",
       "</table>\n",
       "</div>"
      ],
      "text/plain": [
       "Sex       female  male\n",
       "Survived              \n",
       "False         81   468\n",
       "True         233   109"
      ]
     },
     "execution_count": 39,
     "metadata": {},
     "output_type": "execute_result"
    }
   ],
   "source": [
    "pd.pivot_table(data = df[['Survived', 'Sex']], index = 'Survived', columns = ['Sex'], aggfunc = len)"
   ]
  },
  {
   "cell_type": "code",
   "execution_count": 40,
   "metadata": {
    "collapsed": false
   },
   "outputs": [
    {
     "name": "stdout",
     "output_type": "stream",
     "text": [
      "Results of Chi-Squared test on Sex to Survival.\n",
      "\n",
      "Chi-Squared Score = 260.717020167\n",
      "P-value = 1.19735706278e-58\n"
     ]
    }
   ],
   "source": [
    "def chi2_test(df, column):\n",
    "    pivot = pd.pivot_table(data=df[['Survived', column]], index='Survived', columns=[column], aggfunc=len)\n",
    "    chi2, p_value, dof, expected = chi2_contingency(pivot)\n",
    "    print(\"Results of Chi-Squared test on {} to Survival.\".format(column))\n",
    "    print(\"\")\n",
    "    print(\"Chi-Squared Score = \" + str(chi2))\n",
    "    print(\"P-value = \" + str(p_value))\n",
    "\n",
    "chi2_test(df, 'Sex')"
   ]
  },
  {
   "cell_type": "markdown",
   "metadata": {},
   "source": [
    "### Women and class\n",
    "\n",
    "\n",
    "I'm testing the dependence or independence of the variables 'Pclass' (1st and 2nd or 3rd) and 'Survival' for the subgroup of women with a Chi Squared Test.\n",
    "\n",
    "$H_{0}:$ Variable 'Pclass' and Variable 'Survival' are independent for the subgroup of women.\n",
    "\n",
    "$H_{alt}:$ Variable 'Pclass' and Variable 'Survival' are not independent for the subgroup of women.\n",
    "\n",
    "The distribution tables already show a dependence between the two variables. The test shows a very low p-value. At an alpha-level of 0.05 this is considered highly significant. Therefore, the null hypothesis can be rejected."
   ]
  },
  {
   "cell_type": "code",
   "execution_count": 41,
   "metadata": {
    "collapsed": false
   },
   "outputs": [
    {
     "data": {
      "text/html": [
       "<div>\n",
       "<table border=\"1\" class=\"dataframe\">\n",
       "  <thead>\n",
       "    <tr style=\"text-align: right;\">\n",
       "      <th>UpperClasses</th>\n",
       "      <th>False</th>\n",
       "      <th>True</th>\n",
       "    </tr>\n",
       "    <tr>\n",
       "      <th>Survived</th>\n",
       "      <th></th>\n",
       "      <th></th>\n",
       "    </tr>\n",
       "  </thead>\n",
       "  <tbody>\n",
       "    <tr>\n",
       "      <th>0.0</th>\n",
       "      <td>72</td>\n",
       "      <td>9</td>\n",
       "    </tr>\n",
       "    <tr>\n",
       "      <th>1.0</th>\n",
       "      <td>72</td>\n",
       "      <td>161</td>\n",
       "    </tr>\n",
       "  </tbody>\n",
       "</table>\n",
       "</div>"
      ],
      "text/plain": [
       "UpperClasses  False  True \n",
       "Survived                  \n",
       "0.0              72      9\n",
       "1.0              72    161"
      ]
     },
     "execution_count": 41,
     "metadata": {},
     "output_type": "execute_result"
    }
   ],
   "source": [
    "df_women = df.where(df['Sex'] == 'female').dropna(subset=['Sex'])\n",
    "df_women['UpperClasses'] = df_women['Pclass'] != 3\n",
    "pd.pivot_table(data = df_women[['Survived', 'UpperClasses']], index = 'Survived', columns = ['UpperClasses'], aggfunc = len)"
   ]
  },
  {
   "cell_type": "code",
   "execution_count": 42,
   "metadata": {
    "collapsed": false
   },
   "outputs": [
    {
     "name": "stdout",
     "output_type": "stream",
     "text": [
      "Results of Chi-Squared test on UpperClasses to Survival.\n",
      "\n",
      "Chi-Squared Score = 79.082183547\n",
      "P-value = 5.95792100217e-19\n"
     ]
    }
   ],
   "source": [
    "chi2_test(df_women, 'UpperClasses')"
   ]
  },
  {
   "cell_type": "markdown",
   "metadata": {},
   "source": [
    "### Passenger class (1st class / 2nd and 3rd class)\n",
    "\n",
    "I'm testing the dependence or independence of the variables 'Pclass' (1st or 2nd and 3rd) and 'Survival' with a Chi Squared Test.\n",
    "\n",
    "$H_{0}:$ Variable 'Pclass' and Variable 'Survival' are independent.\n",
    "\n",
    "$H_{alt}:$ Variable 'Pclass' and Variable 'Survival' are not independent.\n",
    "\n",
    "The distribution tables already show a dependence between the two variables. The test shows a very low p-value. At an alpha-level of 0.05 this is considered highly significant. Therefore, the null hypothesis can be rejected."
   ]
  },
  {
   "cell_type": "code",
   "execution_count": 43,
   "metadata": {
    "collapsed": false
   },
   "outputs": [
    {
     "data": {
      "text/html": [
       "<div>\n",
       "<table border=\"1\" class=\"dataframe\">\n",
       "  <thead>\n",
       "    <tr style=\"text-align: right;\">\n",
       "      <th>LowerClass</th>\n",
       "      <th>False</th>\n",
       "      <th>True</th>\n",
       "    </tr>\n",
       "    <tr>\n",
       "      <th>Survived</th>\n",
       "      <th></th>\n",
       "      <th></th>\n",
       "    </tr>\n",
       "  </thead>\n",
       "  <tbody>\n",
       "    <tr>\n",
       "      <th>False</th>\n",
       "      <td>80</td>\n",
       "      <td>469</td>\n",
       "    </tr>\n",
       "    <tr>\n",
       "      <th>True</th>\n",
       "      <td>136</td>\n",
       "      <td>206</td>\n",
       "    </tr>\n",
       "  </tbody>\n",
       "</table>\n",
       "</div>"
      ],
      "text/plain": [
       "LowerClass  False  True \n",
       "Survived                \n",
       "False          80    469\n",
       "True          136    206"
      ]
     },
     "execution_count": 43,
     "metadata": {},
     "output_type": "execute_result"
    }
   ],
   "source": [
    "df['LowerClass'] = df['Pclass'] != 1\n",
    "pd.pivot_table(data = df[['Survived', 'LowerClass']], index = 'Survived', columns = ['LowerClass'], aggfunc = len)"
   ]
  },
  {
   "cell_type": "code",
   "execution_count": 44,
   "metadata": {
    "collapsed": false
   },
   "outputs": [
    {
     "name": "stdout",
     "output_type": "stream",
     "text": [
      "Results of Chi-Squared test on LowerClass to Survival.\n",
      "\n",
      "Chi-Squared Score = 71.4658385462\n",
      "P-value = 2.82100211671e-17\n"
     ]
    }
   ],
   "source": [
    "chi2_test(df, 'LowerClass')"
   ]
  },
  {
   "cell_type": "markdown",
   "metadata": {},
   "source": [
    "### Passenger class (2nd class / 3rd class)\n",
    "\n",
    "I'm testing the dependence or independence of the variables 'Pclass' and 'Survival' for the subgrup of passengers from the second and third class with a Chi Squared Test.\n",
    "\n",
    "$H_{0}:$ Variable 'Pclass' and Variable 'Survival' are independent.\n",
    "\n",
    "$H_{alt}:$ Variable 'Pclass' and Variable 'Survival' are not independent.\n",
    "\n",
    "The distribution tables already show a dependence between the two variables. The test shows a very low p-value. At an alpha-level of 0.05 this is considered highly significant. Therefore, the null hypothesis can be rejected."
   ]
  },
  {
   "cell_type": "code",
   "execution_count": 45,
   "metadata": {
    "collapsed": false
   },
   "outputs": [
    {
     "data": {
      "text/html": [
       "<div>\n",
       "<table border=\"1\" class=\"dataframe\">\n",
       "  <thead>\n",
       "    <tr style=\"text-align: right;\">\n",
       "      <th>Pclass</th>\n",
       "      <th>2.0</th>\n",
       "      <th>3.0</th>\n",
       "    </tr>\n",
       "    <tr>\n",
       "      <th>Survived</th>\n",
       "      <th></th>\n",
       "      <th></th>\n",
       "    </tr>\n",
       "  </thead>\n",
       "  <tbody>\n",
       "    <tr>\n",
       "      <th>0.0</th>\n",
       "      <td>97</td>\n",
       "      <td>372</td>\n",
       "    </tr>\n",
       "    <tr>\n",
       "      <th>1.0</th>\n",
       "      <td>87</td>\n",
       "      <td>119</td>\n",
       "    </tr>\n",
       "  </tbody>\n",
       "</table>\n",
       "</div>"
      ],
      "text/plain": [
       "Pclass    2.0  3.0\n",
       "Survived          \n",
       "0.0        97  372\n",
       "1.0        87  119"
      ]
     },
     "execution_count": 45,
     "metadata": {},
     "output_type": "execute_result"
    }
   ],
   "source": [
    "df_lower = df.where(df['Pclass'] != 1).dropna(subset=['Pclass'])\n",
    "pd.pivot_table(data = df_lower[['Survived', 'Pclass']], index = 'Survived', columns = ['Pclass'], aggfunc = len)"
   ]
  },
  {
   "cell_type": "code",
   "execution_count": 46,
   "metadata": {
    "collapsed": false
   },
   "outputs": [
    {
     "name": "stdout",
     "output_type": "stream",
     "text": [
      "Results of Chi-Squared test on Pclass to Survival.\n",
      "\n",
      "Chi-Squared Score = 32.4468638935\n",
      "P-value = 1.22496478135e-08\n"
     ]
    }
   ],
   "source": [
    "chi2_test(df_lower, 'Pclass')"
   ]
  },
  {
   "cell_type": "markdown",
   "metadata": {},
   "source": [
    "### Passenger class (1st class /  2nd class)\n",
    "\n",
    "I'm testing the dependence or independence of the variables 'Pclass' and 'Survival' for the subgrup of passengers from the first and second class with a Chi Squared Test.\n",
    "\n",
    "$H_{0}:$ Variable 'Pclass' and Variable 'Survival' are independent.\n",
    "\n",
    "$H_{alt}:$ Variable 'Pclass' and Variable 'Survival' are not independent.\n",
    "\n",
    "The distribution tables already show a dependence between the two variables. The test shows a very low p-value. At an alpha-level of 0.05 this is considered highly significant. Therefore, the null hypothesis can be rejected."
   ]
  },
  {
   "cell_type": "code",
   "execution_count": 47,
   "metadata": {
    "collapsed": false
   },
   "outputs": [
    {
     "data": {
      "text/html": [
       "<div>\n",
       "<table border=\"1\" class=\"dataframe\">\n",
       "  <thead>\n",
       "    <tr style=\"text-align: right;\">\n",
       "      <th>Pclass</th>\n",
       "      <th>1.0</th>\n",
       "      <th>2.0</th>\n",
       "    </tr>\n",
       "    <tr>\n",
       "      <th>Survived</th>\n",
       "      <th></th>\n",
       "      <th></th>\n",
       "    </tr>\n",
       "  </thead>\n",
       "  <tbody>\n",
       "    <tr>\n",
       "      <th>0.0</th>\n",
       "      <td>80</td>\n",
       "      <td>97</td>\n",
       "    </tr>\n",
       "    <tr>\n",
       "      <th>1.0</th>\n",
       "      <td>136</td>\n",
       "      <td>87</td>\n",
       "    </tr>\n",
       "  </tbody>\n",
       "</table>\n",
       "</div>"
      ],
      "text/plain": [
       "Pclass    1.0  2.0\n",
       "Survived          \n",
       "0.0        80   97\n",
       "1.0       136   87"
      ]
     },
     "execution_count": 47,
     "metadata": {},
     "output_type": "execute_result"
    }
   ],
   "source": [
    "df_higher = df.where(df['Pclass'] != 3).dropna(subset=['Pclass'])\n",
    "pd.pivot_table(data = df_higher[['Survived', 'Pclass']], index = 'Survived', columns = ['Pclass'], aggfunc = len)"
   ]
  },
  {
   "cell_type": "code",
   "execution_count": 48,
   "metadata": {
    "collapsed": false
   },
   "outputs": [
    {
     "name": "stdout",
     "output_type": "stream",
     "text": [
      "Results of Chi-Squared test on Pclass to Survival.\n",
      "\n",
      "Chi-Squared Score = 9.27754252077\n",
      "P-value = 0.00231980454037\n"
     ]
    }
   ],
   "source": [
    "chi2_test(df_higher, 'Pclass')"
   ]
  },
  {
   "cell_type": "markdown",
   "metadata": {},
   "source": [
    "### Age - children\n",
    "\n",
    "I'm testing the dependence or independence of the variables 'Age' (Groups 7 years and younger and those older than 7 years) and 'Survival' with a Chi Squared Test.\n",
    "\n",
    "$H_{0}:$ Variable 'Age' (<7 / 7+) and Variable 'Survival' are independent.\n",
    "\n",
    "$H_{alt}:$ Variable 'Age' (<7 / 7+) and Variable 'Survival' are not independent.\n",
    "\n",
    "The distribution tables already show a dependence between the two variables. The test shows a very low p-value. At an alpha-level of 0.05 this is considered highly significant. Therefore, the null hypothesis can be rejected."
   ]
  },
  {
   "cell_type": "code",
   "execution_count": 49,
   "metadata": {
    "collapsed": false
   },
   "outputs": [
    {
     "name": "stderr",
     "output_type": "stream",
     "text": [
      "C:\\Users\\Eliu\\Anaconda2\\envs\\py35\\lib\\site-packages\\ipykernel\\__main__.py:1: SettingWithCopyWarning: \n",
      "A value is trying to be set on a copy of a slice from a DataFrame.\n",
      "Try using .loc[row_indexer,col_indexer] = value instead\n",
      "\n",
      "See the caveats in the documentation: http://pandas.pydata.org/pandas-docs/stable/indexing.html#indexing-view-versus-copy\n",
      "  if __name__ == '__main__':\n"
     ]
    },
    {
     "data": {
      "text/html": [
       "<div>\n",
       "<table border=\"1\" class=\"dataframe\">\n",
       "  <thead>\n",
       "    <tr style=\"text-align: right;\">\n",
       "      <th>child</th>\n",
       "      <th>False</th>\n",
       "      <th>True</th>\n",
       "    </tr>\n",
       "    <tr>\n",
       "      <th>Survived</th>\n",
       "      <th></th>\n",
       "      <th></th>\n",
       "    </tr>\n",
       "  </thead>\n",
       "  <tbody>\n",
       "    <tr>\n",
       "      <th>False</th>\n",
       "      <td>408</td>\n",
       "      <td>16</td>\n",
       "    </tr>\n",
       "    <tr>\n",
       "      <th>True</th>\n",
       "      <td>256</td>\n",
       "      <td>34</td>\n",
       "    </tr>\n",
       "  </tbody>\n",
       "</table>\n",
       "</div>"
      ],
      "text/plain": [
       "child     False  True \n",
       "Survived              \n",
       "False       408     16\n",
       "True        256     34"
      ]
     },
     "execution_count": 49,
     "metadata": {},
     "output_type": "execute_result"
    }
   ],
   "source": [
    "df_age['child'] = df_age['Age'] <= 7\n",
    "pd.pivot_table(data = df_age[['Survived', 'child']], index = 'Survived', columns = ['child'], aggfunc = len)"
   ]
  },
  {
   "cell_type": "code",
   "execution_count": 50,
   "metadata": {
    "collapsed": false
   },
   "outputs": [
    {
     "name": "stdout",
     "output_type": "stream",
     "text": [
      "Results of Chi-Squared test on child to Survival.\n",
      "\n",
      "Chi-Squared Score = 15.5169323734\n",
      "P-value = 8.1769513979e-05\n"
     ]
    }
   ],
   "source": [
    "chi2_test(df_age, 'child')"
   ]
  },
  {
   "cell_type": "markdown",
   "metadata": {},
   "source": [
    "### Age - children and class\n",
    "\n",
    "I'm testing the dependence or independence of the variables 'Pclass' (1st and 2nd / 3rd) and 'Survival' for the subgroup children (7 and younger) with a Chi Squared Test.\n",
    "\n",
    "$H_{0}:$ Variable 'Pclass' and Variable 'Survival' are independent.\n",
    "\n",
    "$H_{alt}:$ Variable 'Pclass' and Variable 'Survival' are not independent.\n",
    "\n",
    "The distribution tables already show a dependence between the two variables. The test shows a very low p-value. At an alpha-level of 0.05 this is considered highly significant. Therefore, the null hypothesis can be rejected."
   ]
  },
  {
   "cell_type": "code",
   "execution_count": 51,
   "metadata": {
    "collapsed": false
   },
   "outputs": [
    {
     "data": {
      "text/html": [
       "<div>\n",
       "<table border=\"1\" class=\"dataframe\">\n",
       "  <thead>\n",
       "    <tr style=\"text-align: right;\">\n",
       "      <th>UpperClasses</th>\n",
       "      <th>False</th>\n",
       "      <th>True</th>\n",
       "    </tr>\n",
       "    <tr>\n",
       "      <th>Survived</th>\n",
       "      <th></th>\n",
       "      <th></th>\n",
       "    </tr>\n",
       "  </thead>\n",
       "  <tbody>\n",
       "    <tr>\n",
       "      <th>0.0</th>\n",
       "      <td>15</td>\n",
       "      <td>1</td>\n",
       "    </tr>\n",
       "    <tr>\n",
       "      <th>1.0</th>\n",
       "      <td>17</td>\n",
       "      <td>17</td>\n",
       "    </tr>\n",
       "  </tbody>\n",
       "</table>\n",
       "</div>"
      ],
      "text/plain": [
       "UpperClasses  False  True \n",
       "Survived                  \n",
       "0.0              15      1\n",
       "1.0              17     17"
      ]
     },
     "execution_count": 51,
     "metadata": {},
     "output_type": "execute_result"
    }
   ],
   "source": [
    "df_children = df_age.where(df_age['Age'] <= 7).dropna(subset=['Age'])\n",
    "df_children['UpperClasses'] = df_children['Pclass'] != 3\n",
    "pd.pivot_table(data = df_children[['Survived', 'UpperClasses']], index = 'Survived', columns = ['UpperClasses'], aggfunc = len)"
   ]
  },
  {
   "cell_type": "code",
   "execution_count": 52,
   "metadata": {
    "collapsed": false
   },
   "outputs": [
    {
     "name": "stdout",
     "output_type": "stream",
     "text": [
      "Results of Chi-Squared test on UpperClasses to Survival.\n",
      "\n",
      "Chi-Squared Score = 7.23948759191\n",
      "P-value = 0.00713173303465\n"
     ]
    }
   ],
   "source": [
    "chi2_test(df_children, 'UpperClasses')"
   ]
  },
  {
   "cell_type": "markdown",
   "metadata": {},
   "source": [
    "### Age - Older passengers\n",
    "\n",
    "I'm testing the dependence or independence of the variables 'Age' (Groups 60 years and older and those younger) and 'Survival' with a Chi Squared Test.\n",
    "\n",
    "$H_{0}:$ Variable 'Age' (60+ / Other) and Variable 'Survival' are independent.\n",
    "\n",
    "$H_{alt}:$ Variable 'Age' (60+ / Other) and Variable 'Survival' are not independent.\n",
    "\n",
    "The distribution tables already show a dependence between the two variables. The test shows a p-value of 0.2. At an alpha-level of 0.05 this is considered not significant. Therefore, the null hypothesis can not be rejected."
   ]
  },
  {
   "cell_type": "code",
   "execution_count": 53,
   "metadata": {
    "collapsed": false
   },
   "outputs": [
    {
     "name": "stderr",
     "output_type": "stream",
     "text": [
      "C:\\Users\\Eliu\\Anaconda2\\envs\\py35\\lib\\site-packages\\ipykernel\\__main__.py:1: SettingWithCopyWarning: \n",
      "A value is trying to be set on a copy of a slice from a DataFrame.\n",
      "Try using .loc[row_indexer,col_indexer] = value instead\n",
      "\n",
      "See the caveats in the documentation: http://pandas.pydata.org/pandas-docs/stable/indexing.html#indexing-view-versus-copy\n",
      "  if __name__ == '__main__':\n"
     ]
    },
    {
     "data": {
      "text/html": [
       "<div>\n",
       "<table border=\"1\" class=\"dataframe\">\n",
       "  <thead>\n",
       "    <tr style=\"text-align: right;\">\n",
       "      <th>Old</th>\n",
       "      <th>False</th>\n",
       "      <th>True</th>\n",
       "    </tr>\n",
       "    <tr>\n",
       "      <th>Survived</th>\n",
       "      <th></th>\n",
       "      <th></th>\n",
       "    </tr>\n",
       "  </thead>\n",
       "  <tbody>\n",
       "    <tr>\n",
       "      <th>False</th>\n",
       "      <td>405</td>\n",
       "      <td>19</td>\n",
       "    </tr>\n",
       "    <tr>\n",
       "      <th>True</th>\n",
       "      <td>283</td>\n",
       "      <td>7</td>\n",
       "    </tr>\n",
       "  </tbody>\n",
       "</table>\n",
       "</div>"
      ],
      "text/plain": [
       "Old       False  True \n",
       "Survived              \n",
       "False       405     19\n",
       "True        283      7"
      ]
     },
     "execution_count": 53,
     "metadata": {},
     "output_type": "execute_result"
    }
   ],
   "source": [
    "df_age['Old'] = df_age['Age'] >= 60\n",
    "pd.pivot_table(data = df_age[['Survived', 'Old']], index = 'Survived', columns = ['Old'], aggfunc = len)"
   ]
  },
  {
   "cell_type": "code",
   "execution_count": 54,
   "metadata": {
    "collapsed": false
   },
   "outputs": [
    {
     "name": "stdout",
     "output_type": "stream",
     "text": [
      "Results of Chi-Squared test on Old to Survival.\n",
      "\n",
      "Chi-Squared Score = 1.54979927606\n",
      "P-value = 0.213165075607\n"
     ]
    }
   ],
   "source": [
    "chi2_test(df_age, 'Old')"
   ]
  },
  {
   "cell_type": "markdown",
   "metadata": {},
   "source": [
    "### Relatives\n",
    "\n",
    "I'm testing the dependence or independence of the variables 'Relatives' (without relatives / with relatives) and 'Survival' with a Chi Squared Test.\n",
    "\n",
    "$H_{0}:$ Variable 'Relatives' and Variable 'Survival' are independent.\n",
    "\n",
    "$H_{alt}:$ Variable 'Realtives' and Variable 'Survival' are not independent.\n",
    "\n",
    "The distribution tables already show a dependence between the two variables. The test shows a very low p-value. At an alpha-level of 0.05 this is considered highly significant. Therefore, the null hypothesis can be rejected."
   ]
  },
  {
   "cell_type": "code",
   "execution_count": 55,
   "metadata": {
    "collapsed": false
   },
   "outputs": [
    {
     "data": {
      "text/html": [
       "<div>\n",
       "<table border=\"1\" class=\"dataframe\">\n",
       "  <thead>\n",
       "    <tr style=\"text-align: right;\">\n",
       "      <th>has_relatives</th>\n",
       "      <th>False</th>\n",
       "      <th>True</th>\n",
       "    </tr>\n",
       "    <tr>\n",
       "      <th>Survived</th>\n",
       "      <th></th>\n",
       "      <th></th>\n",
       "    </tr>\n",
       "  </thead>\n",
       "  <tbody>\n",
       "    <tr>\n",
       "      <th>False</th>\n",
       "      <td>374</td>\n",
       "      <td>175</td>\n",
       "    </tr>\n",
       "    <tr>\n",
       "      <th>True</th>\n",
       "      <td>163</td>\n",
       "      <td>179</td>\n",
       "    </tr>\n",
       "  </tbody>\n",
       "</table>\n",
       "</div>"
      ],
      "text/plain": [
       "has_relatives  False  True \n",
       "Survived                   \n",
       "False            374    175\n",
       "True             163    179"
      ]
     },
     "execution_count": 55,
     "metadata": {},
     "output_type": "execute_result"
    }
   ],
   "source": [
    "df['has_relatives'] = df['Relatives'] > 0\n",
    "pd.pivot_table(data = df[['Survived', 'has_relatives']], index = 'Survived', columns = ['has_relatives'], aggfunc = len)"
   ]
  },
  {
   "cell_type": "code",
   "execution_count": 56,
   "metadata": {
    "collapsed": false
   },
   "outputs": [
    {
     "name": "stdout",
     "output_type": "stream",
     "text": [
      "Results of Chi-Squared test on has_relatives to Survival.\n",
      "\n",
      "Chi-Squared Score = 36.0005144677\n",
      "P-value = 1.97265438465e-09\n"
     ]
    }
   ],
   "source": [
    "chi2_test(df, 'has_relatives')"
   ]
  },
  {
   "cell_type": "markdown",
   "metadata": {},
   "source": [
    "## Summary\n"
   ]
  },
  {
   "cell_type": "markdown",
   "metadata": {
    "collapsed": true
   },
   "source": [
    "Based on the tests the following conclusion are possible:\n",
    "\n",
    "- Women\n",
    "\n",
    "Women had a much better chance of survival overall. Within the subgroup of women, the passenger class was a significant factor, where women in the third passenger class had a lower chance of survival.\n",
    "\n",
    "- Children (Age 0 - 7)\n",
    "\n",
    "Children had a better chance of survival. Within in the children traveling 1st or 2nd class was still significantly advantageous than traveling 3rd class.\n",
    "\n",
    "- Booking class / socioeconomic status\n",
    "\n",
    "The statistical tests showed that the status, represented by the booking class, had a significant effect on the chance of survival. The passengers traveling 1st class had a better chance than those traveling 2nd class and those still had a better chance than traveling 3rd class.\n",
    "\n",
    "- Older passengers (Age 60 +)\n",
    "\n",
    "I found that only about 1/4 of the passengers over 60 years old survived but this proved to be not statistical significant. \n",
    "\n",
    "- Relatives on board\n",
    "\n",
    "Traveling alone (without any relatives on board) did significantly lower the chance of survival.\n",
    "\n",
    "### Limitations\n",
    "\n",
    "The limitations of these conclusions are at one point the sample size. While a good portion of the total people on board was covered, there are some more, therefore the results might vary.\n",
    "\n",
    "Furthermore, relating to the age factors (children), we used an even smaller sample size and some of the age values were estimations. The sample size of the children was with 50 passengers not very big. \n",
    "\n",
    "I used the passenger class as an estimation of status a wealth. This is only a rough estimation, I looked into the ticket price, but this did not promise a better estimate of the status."
   ]
  },
  {
   "cell_type": "markdown",
   "metadata": {},
   "source": [
    "## Conclusion\n",
    "\n",
    "The data clearly reflects \"Women and children first\" - Although not as a strict rule but more as a guideline. Not all women and children survived and not all men died. Not all women and children and children had the same chances. Those traveling 1st and 2nd class had higher chance of getting rescued and passengers in the better classes had better chances overall.\n",
    "\n",
    "Reasons for the higher survival rate of women and children is very likely the rule \"women and children first\". The higher survival rate of the 1st and 2nd class probably has other reasons. Maybe they got \"lifeboat-preference\" because of their booking status or their cabins were nearer to the lifeboats. Maybe they were more educated and therefore better able to follow instructions. With the lower booking classes, we expect a lower socioeconomic status. Therefore, there were probably passengers who were not able to speak English and therefore could not follow instructions.\n",
    "\n",
    "It is hard to even speculate about recommendations. Obviously to send more women and children on board or only allow higher booking classes won't do much good for the safety of shipping. Although from the perspective of an individual booking a cabin in the 1st class might be a safer bet, at least back in the first decades of the 19th century. Not a very helpful advice since the funds to pay for a higher class ticket were probably usually not available. Therefore, the big factors were mainly things the individual could not influence.\n",
    "\n",
    "The obvious recommendations to lower casualties would be safer driving, harder ships, more lifeboats and a crew trained for the evacuation of the entire crew and passengers. Many of these points have since been implemented in international shipping guidelines."
   ]
  }
 ],
 "metadata": {
  "anaconda-cloud": {},
  "kernelspec": {
   "display_name": "Python [py35]",
   "language": "python",
   "name": "Python [py35]"
  },
  "language_info": {
   "codemirror_mode": {
    "name": "ipython",
    "version": 3
   },
   "file_extension": ".py",
   "mimetype": "text/x-python",
   "name": "python",
   "nbconvert_exporter": "python",
   "pygments_lexer": "ipython3",
   "version": "3.5.2"
  }
 },
 "nbformat": 4,
 "nbformat_minor": 0
}
