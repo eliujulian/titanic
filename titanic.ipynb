{
 "cells": [
  {
   "cell_type": "markdown",
   "metadata": {
    "collapsed": true
   },
   "source": [
    "\n",
    "# Women and Children first...? The Sinking of the RMS Titanic\n",
    "\n",
    "A statistical analysis by Eliu Schmitt (mail@eliu.de).\n",
    "\n",
    "On April 14th, 1912 the RMS Titanic on the maiden voyage from Southampton to New York hit an iceberg in the Atlantic. Over 1.500 of the 2,224 passengers and crew on board died when the ship sank. Due to the high number of casualties this is one the biggest accidents in civil shipping.\n",
    "\n",
    "The high number of casualties rises many question. First and foremost, why so few people could be saved. While this question is manly attributed to a limited number of lifeboats, it also raises questions, who was saved. Was chivalry a decisive element? Did women and children have a higher chance of survival? Or is it all talk and men have a better chance of survival because they are stronger? Other questions would be, if a higher economic status lead to a higher chance of survival or if more family members on board did influence the chance of survival."
   ]
  },
  {
   "cell_type": "code",
   "execution_count": 1,
   "metadata": {
    "collapsed": false
   },
   "outputs": [
    {
     "name": "stderr",
     "output_type": "stream",
     "text": [
      "C:\\Users\\Eliu\\Anaconda2\\envs\\py35\\lib\\site-packages\\IPython\\html.py:14: ShimWarning: The `IPython.html` package has been deprecated. You should import from `notebook` instead. `IPython.html.widgets` has moved to `ipywidgets`.\n",
      "  \"`IPython.html.widgets` has moved to `ipywidgets`.\", ShimWarning)\n"
     ]
    },
    {
     "data": {
      "text/plain": [
       "Age                                        5\n",
       "Cabin                                  False\n",
       "Embarked                                   S\n",
       "Fare                                  12.475\n",
       "Name           Emanuel, Miss. Virginia Ethel\n",
       "Parch                                      0\n",
       "PassengerId                              778\n",
       "Pclass                                     3\n",
       "Sex                                   female\n",
       "SibSp                                      0\n",
       "Survived                                True\n",
       "Ticket                                364516\n",
       "Name: 777, dtype: object"
      ]
     },
     "execution_count": 1,
     "metadata": {},
     "output_type": "execute_result"
    }
   ],
   "source": [
    "# Python3.5\n",
    "\n",
    "import csv\n",
    "import numpy as np\n",
    "import pandas as pd\n",
    "import matplotlib.pyplot as plt\n",
    "import seaborn as sns\n",
    "from pprint import pprint\n",
    "from collections import Counter\n",
    "from scipy.stats import ttest_ind, tmean, tstd, ttest_ind_from_stats, linregress, norm, t\n",
    "\n",
    "\n",
    "data = list(csv.reader(open('titanic-data.csv', 'r'), delimiter=','))\n",
    "\n",
    "\n",
    "def get_st(c):\n",
    "    return {'1': '1st', '2': '2nd', '3': '3rd'}[c]\n",
    "\n",
    "\n",
    "def get_percentage(a, b, r=2, with_brackets=True):\n",
    "    if with_brackets:\n",
    "        return \"(\" + \"{:.2f}\".format(round(a / b * 100, r)) + \" %)\"\n",
    "    else:\n",
    "        return \"{:.2f}\".format(round(a / b * 100, r)) + \" %\"\n",
    "\n",
    "    \n",
    "def convert(row, labels):\n",
    "    result = {}\n",
    "    result[labels[0]] = row[0] #PasengerID\n",
    "    result[labels[1]] = bool(int(row[1])) #Survived bool\n",
    "    result[labels[2]] = row[2] #Pclass - str\n",
    "    result[labels[3]] = row[3] # Name\n",
    "    result[labels[4]] = row[4] #Sex\n",
    "    if row[5] == '':\n",
    "        result[labels[5]] = False\n",
    "    else:\n",
    "        result[labels[5]] = float(row[5])\n",
    "    result[labels[6]] = int(row[6]) #SibSp\n",
    "    result[labels[7]] = int(row[7]) #Parch\n",
    "    result[labels[8]] = row[8] #TicketID stay str\n",
    "    result[labels[9]] = float(row[9]) # Fare\n",
    "    if row[10] == '':  #Cabin\n",
    "        result[labels[10]] = False\n",
    "    else:\n",
    "        result[labels[10]] = row[10]\n",
    "    result[labels[11]] = row[11]\n",
    "    return result\n",
    "\n",
    "data_non_convertet = [{l: v for l, v in zip(data[0], x)} for x in data[1:]]\n",
    "data_dict = [convert(row, data[0]) for row in data[1:]]\n",
    "\n",
    "df_r = pd.DataFrame(data_non_convertet)\n",
    "df = pd.DataFrame(data_dict)\n",
    "df_age = df[df['Age'] != False]\n",
    "\n",
    "df.loc[777]"
   ]
  },
  {
   "cell_type": "markdown",
   "metadata": {},
   "source": [
    "## About the data"
   ]
  },
  {
   "cell_type": "markdown",
   "metadata": {},
   "source": [
    "The dataset contained information on 891 passengers. Therefore, a relevant portion of the passengers is covered. No data on staff is included in the source.\n",
    "\n",
    "Entries for all passengers include a PassengerID, the information, if the passenger survived the accident, the booking class, a name, the gender (male, female), a count of siblings and spouses on board, a count of parents and children on board and the port of embarkation. I found no unusual values for these data.\n",
    "\n",
    "The age is provided for 714 of the 891 passengers. 25 of these 714 values are estimations. All given values are within a reasonable range."
   ]
  },
  {
   "cell_type": "code",
   "execution_count": 2,
   "metadata": {
    "collapsed": false
   },
   "outputs": [
    {
     "name": "stdout",
     "output_type": "stream",
     "text": [
      "Count total: 891\n",
      "Count Age Values: 714\n",
      "Count Age Estimations: 25\n",
      "Max. Age: 80.0\n",
      "Min. Age: 0.42\n",
      "Mean Age: 29.7\n"
     ]
    }
   ],
   "source": [
    "print(\"Count total:\", len(df))\n",
    "print('Count Age Values:', df['Age'][df['Age'] != False].count())\n",
    "print('Count Age Estimations:', df['Age'][(df['Age'] % 1) > 0].count())\n",
    "print('Max. Age:', df['Age'].max())\n",
    "print('Min. Age:', df['Age'][df['Age'] != False].min())\n",
    "print('Mean Age:', round(df['Age'][df['Age'] != False].mean(), 2))"
   ]
  },
  {
   "cell_type": "markdown",
   "metadata": {},
   "source": [
    "The ticket number seems to follow different systems. Various numbers are registered for more than one passenger, so the ticket number is not unique. The same number probably means that the passengers booked the trip together, but the count of single ticket number at 547 seems to be quite high, given the assumption, that passengers would probably not go on the voyage alone."
   ]
  },
  {
   "cell_type": "code",
   "execution_count": 3,
   "metadata": {
    "collapsed": false
   },
   "outputs": [
    {
     "name": "stdout",
     "output_type": "stream",
     "text": [
      "Count not unique ticket numbers: 134\n",
      "Count unique ticket number: 547\n"
     ]
    }
   ],
   "source": [
    "tn = Counter(df['Ticket'])\n",
    "print('Count not unique ticket numbers:', len([k for k,v in tn.items() if v > 1]))\n",
    "print('Count unique ticket number:', len([k for k, v in tn.items() if v == 1]))"
   ]
  },
  {
   "cell_type": "markdown",
   "metadata": {},
   "source": [
    "The data for fare per passenger seems to be also inconsistent. Quite some have registered no fare at all (0 Pounds). The maximum of the fares is a first class ticket. The fares therefore probably sometimes include other passengers as well. There could also be some \"free rides\", maybe somebody has won a ticket."
   ]
  },
  {
   "cell_type": "code",
   "execution_count": 4,
   "metadata": {
    "collapsed": false
   },
   "outputs": [
    {
     "name": "stdout",
     "output_type": "stream",
     "text": [
      "Maximum Fare: 512.33\n",
      "Name/Id of most expensive passenger: Ward, Miss. Anna Age: 35 , Id: 259\n",
      "\n",
      "Sum Fares: 28,693.95\n",
      "Mean Fare: 32.20\n"
     ]
    }
   ],
   "source": [
    "fa = df['Fare']\n",
    "print('Maximum Fare:', round(fa.max(), 2))\n",
    "print('Name/Id of most expensive passenger:', df.loc[fa.idxmax()]['Name'], \"Age:\", int(df.loc[fa.idxmax()]['Age']), \", Id:\", df.loc[fa.idxmax()]['PassengerId'])\n",
    "print(\"\")\n",
    "print(\"Sum Fares:\", \"{:,.2f}\".format(round(fa.sum(), 2)))\n",
    "print(\"Mean Fare:\", \"{:,.2f}\".format(round(fa.mean(), 2)))"
   ]
  },
  {
   "cell_type": "markdown",
   "metadata": {},
   "source": [
    "Most passenger data do not register a cabin. It is not fully clear, if this is just missing data, or if these passengers did not have a cabin (but rather a dormitory or similar). I tend to the missing data, since with the second option we would expect that the 1st class passenger all have a cabin, but here are also quite some without any entry. The cabin data could be used to estimate the length of the way to the lifeboats. Although, it isn't clear, if the passengers actually stayed at the cabin at the time and there is quite some data missing, therefore this is probably difficult."
   ]
  },
  {
   "cell_type": "code",
   "execution_count": 5,
   "metadata": {
    "collapsed": false
   },
   "outputs": [
    {
     "name": "stdout",
     "output_type": "stream",
     "text": [
      "Passenger without a registered cabin: 687\n",
      "Fist class passengers without a resistered cabin: 40\n"
     ]
    }
   ],
   "source": [
    "ca = df['Cabin']\n",
    "df_cls_1 = df[df['Pclass'] == '1']\n",
    "df_cls_cbn = df_cls_1['Cabin']\n",
    "\n",
    "print('Passenger without a registered cabin:', ca[ca == False].count())\n",
    "print('Fist class passengers without a resistered cabin:', df_cls_cbn[df_cls_cbn == False].count())"
   ]
  },
  {
   "cell_type": "markdown",
   "metadata": {},
   "source": [
    "## The passengers\n",
    "\n",
    "There are more men than women in the group. Most of the passengers are traveling in the 3rd passenger class. The ratio of men to women is higher in the 3rd passenger class than in the others.\n",
    "\n"
   ]
  },
  {
   "cell_type": "code",
   "execution_count": 6,
   "metadata": {
    "collapsed": false
   },
   "outputs": [
    {
     "name": "stdout",
     "output_type": "stream",
     "text": [
      "Count male: 577 (64.76 %)\n",
      "Count female: 314 (35.24 %)\n"
     ]
    }
   ],
   "source": [
    "print(\"Count male:\", df['Sex'][df['Sex'] == 'male'].count(), \n",
    "      get_percentage(df['Sex'][df['Sex'] == 'male'].count(), len(df)))\n",
    "print(\"Count female:\", df['Sex'][df['Sex'] == 'female'].count(), \n",
    "      get_percentage(df['Sex'][df['Sex'] == 'female'].count(), len(df)))"
   ]
  },
  {
   "cell_type": "code",
   "execution_count": 7,
   "metadata": {
    "collapsed": false
   },
   "outputs": [
    {
     "name": "stdout",
     "output_type": "stream",
     "text": [
      "Count 1st Passenger Class: 216 , Men: 122 , Women: 94\n",
      "Count 2st Passenger Class: 184 , Men: 108 , Women: 76\n",
      "Count 3st Passenger Class: 491 , Men: 347 , Women: 144\n"
     ]
    }
   ],
   "source": [
    "pc = df['Pclass']\n",
    "pc_1 = df[df['Pclass'] == '1']\n",
    "pc_2 = df[df['Pclass'] == '2']\n",
    "pc_3 = df[df['Pclass'] == '3']\n",
    "print(\"Count 1st Passenger Class:\", len(pc_1), \", Men:\", len(pc_1[pc_1['Sex'] == 'male']), \", Women:\", len(pc_1[pc_1['Sex'] == 'female']))\n",
    "print(\"Count 2st Passenger Class:\", len(pc_2), \", Men:\", len(pc_2[pc_2['Sex'] == 'male']), \", Women:\", len(pc_2[pc_2['Sex'] == 'female']))\n",
    "print(\"Count 3st Passenger Class:\", len(pc_3), \", Men:\", len(pc_3[pc_3['Sex'] == 'male']), \", Women:\", len(pc_3[pc_3['Sex'] == 'female']))"
   ]
  },
  {
   "cell_type": "markdown",
   "metadata": {},
   "source": [
    "The distribution shows that the majority of the passengers are between 20 and 30 years old."
   ]
  },
  {
   "cell_type": "code",
   "execution_count": 8,
   "metadata": {
    "collapsed": false
   },
   "outputs": [
    {
     "data": {
      "image/png": "[encoded data removed]",
      "text/plain": [
       "<matplotlib.figure.Figure at 0x23c1395e438>"
      ]
     },
     "metadata": {},
     "output_type": "display_data"
    }
   ],
   "source": [
    "%matplotlib inline\n",
    "\n",
    "plt.hist(df_age['Age'], label='Count Age All Passengers')\n",
    "plt.title('Distribution Age All Passengers')\n",
    "plt.show()"
   ]
  },
  {
   "cell_type": "markdown",
   "metadata": {},
   "source": [
    "Male passengers tend to be ca. 3 years older on average. But the distribution seems to be roughly the same."
   ]
  },
  {
   "cell_type": "code",
   "execution_count": 9,
   "metadata": {
    "collapsed": false
   },
   "outputs": [
    {
     "name": "stdout",
     "output_type": "stream",
     "text": [
      "Mean males: 30.7 Count: 453\n",
      "Mean females: 27.9 Count: 261\n"
     ]
    },
    {
     "data": {
      "image/png": "[encoded data removed]",
      "text/plain": [
       "<matplotlib.figure.Figure at 0x23c184fe048>"
      ]
     },
     "metadata": {},
     "output_type": "display_data"
    }
   ],
   "source": [
    "%matplotlib inline\n",
    "\n",
    "male = df_age[df_age['Sex'] == 'male']['Age']\n",
    "female = df_age[df_age['Sex'] == 'female']['Age']\n",
    "\n",
    "print(\"Mean males:\", round(male.mean(),1), \"Count:\", len(male))\n",
    "print(\"Mean females:\", round(female.mean(), 1), \"Count:\", len(female))\n",
    "\n",
    "plt.hist(female, color='red', alpha=0.5, label='female')\n",
    "plt.hist(male, color='blue', alpha=0.4, label='male')\n",
    "plt.title('Difference in age between genders')\n",
    "plt.legend()\n",
    "plt.show()"
   ]
  },
  {
   "cell_type": "markdown",
   "metadata": {},
   "source": [
    "The age varies highly by age with a higher average age at a higher booking class."
   ]
  },
  {
   "cell_type": "code",
   "execution_count": 10,
   "metadata": {
    "collapsed": false
   },
   "outputs": [
    {
     "name": "stdout",
     "output_type": "stream",
     "text": [
      "All passengers\n",
      "Count: 714 Max: 80 Mean: 29.7 Std.Dev.: 14.5\n",
      "1st passenger class\n",
      "Count: 186 Max: 80 Mean: 38.2 Std.Dev.: 14.8\n",
      "2nd passenger class\n",
      "Count: 173 Max: 70 Mean: 29.9 Std.Dev.: 14.0\n",
      "3rd passenger class\n",
      "Count: 355 Max: 74 Mean: 25.1 Std.Dev.: 12.5\n"
     ]
    }
   ],
   "source": [
    "def pr_passenger(c):\n",
    "    print(\"Count:\", len(c), \"Max:\", int(c.max()), \"Mean:\", round(c.mean(), 1), \"Std.Dev.:\", round(c.std(), 1))    \n",
    "\n",
    "print(\"All passengers\")\n",
    "pr_passenger(df[df['Age'] != False]['Age'])\n",
    "print(\"1st passenger class\")\n",
    "pr_passenger(df_age[df_age['Pclass'] == '1']['Age'])\n",
    "print(\"2nd passenger class\")\n",
    "pr_passenger(df_age[df_age['Pclass'] == '2']['Age'])\n",
    "print(\"3rd passenger class\")\n",
    "pr_passenger(df_age[df_age['Pclass'] == '3']['Age'])"
   ]
  },
  {
   "cell_type": "markdown",
   "metadata": {},
   "source": [
    "## The Survivors\n",
    "\n",
    "Out of all passengers in the list only 342 survived. A lot more women survived, even given that there were more men than women in the group. The survivors are roughly evenly distributed between the three booking classes with a somewhat higher count towards 1st class and a lower towards the 2nd class. Compared to the people traveling in that class in total the percentage show an advantage of the higher booking classes. Age in general seems to have only little effect, but looking at children ages 7 years or younger shows a different picture."
   ]
  },
  {
   "cell_type": "code",
   "execution_count": 11,
   "metadata": {
    "collapsed": true
   },
   "outputs": [],
   "source": [
    "survivors = df[df['Survived']]"
   ]
  },
  {
   "cell_type": "code",
   "execution_count": 12,
   "metadata": {
    "collapsed": false
   },
   "outputs": [
    {
     "name": "stdout",
     "output_type": "stream",
     "text": [
      "All surviving passengers\n",
      "Count: 342 (38.38 %) Male: 109 (31.87 %) Female: 233 (68.13 %)\n",
      "1st passenger class\n",
      "Count: 136 (39.77 %) Male: 45 (33.09 %) Female: 91 (66.91 %)\n",
      "2nd passenger class\n",
      "Count: 87 (25.44 %) Male: 17 (19.54 %) Female: 70 (80.46 %)\n",
      "3rd passenger class\n",
      "Count: 119 (34.80 %) Male: 47 (39.50 %) Female: 72 (60.50 %)\n"
     ]
    }
   ],
   "source": [
    "def show_survivors(c):\n",
    "    print(\"{} passenger class\".format(get_st(c)))\n",
    "    print(\"Count:\", Counter(survivors['Pclass'])[c],\n",
    "          get_percentage(Counter(survivors['Pclass'])[c], len(survivors)),\n",
    "          \"Male:\", Counter(survivors[survivors['Pclass'] == c]['Sex'])['male'],\n",
    "          get_percentage(Counter(survivors[survivors['Pclass'] == c]['Sex'])['male'], Counter(survivors['Pclass'])[c]),\n",
    "          \"Female:\", Counter(survivors[survivors['Pclass'] == c]['Sex'])['female'],\n",
    "          get_percentage(Counter(survivors[survivors['Pclass'] == c]['Sex'])['female'], Counter(survivors['Pclass'])[c]))\n",
    "\n",
    "print(\"All surviving passengers\")\n",
    "print(\"Count:\", len(survivors),\n",
    "      get_percentage(len(survivors), len(df)),\n",
    "      \"Male:\", sum(survivors['Sex'] == 'male'),\n",
    "      get_percentage(sum(survivors['Sex'] == 'male'), len(survivors)),\n",
    "      \"Female:\", sum(survivors['Sex'] == 'female'),\n",
    "      get_percentage(sum(survivors['Sex'] == 'female'), len(survivors)))\n",
    "\n",
    "show_survivors('1')\n",
    "show_survivors('2')\n",
    "show_survivors('3')"
   ]
  },
  {
   "cell_type": "markdown",
   "metadata": {},
   "source": [
    "Percentage of survivors by class relative to total passengers in that class"
   ]
  },
  {
   "cell_type": "code",
   "execution_count": 13,
   "metadata": {
    "collapsed": false
   },
   "outputs": [
    {
     "name": "stdout",
     "output_type": "stream",
     "text": [
      "1st passenger class: 62.96 %\n",
      "2nd passenger class: 47.28 %\n",
      "3rd passenger class: 24.24 %\n"
     ]
    }
   ],
   "source": [
    "def show_surv(c):\n",
    "    print('{} passenger class:'.format(get_st(c)), \n",
    "          get_percentage(Counter(survivors['Pclass'])[c], Counter(df['Pclass'])[c], with_brackets=False))\n",
    "\n",
    "show_surv('1')\n",
    "show_surv('2')\n",
    "show_surv('3')"
   ]
  },
  {
   "cell_type": "markdown",
   "metadata": {},
   "source": [
    "Age of the survivors"
   ]
  },
  {
   "cell_type": "code",
   "execution_count": 14,
   "metadata": {
    "collapsed": false
   },
   "outputs": [
    {
     "name": "stdout",
     "output_type": "stream",
     "text": [
      "All Survivors\n",
      "Count: 290 Max: 80 Mean: 28.3 Std.Dev.: 15.0\n",
      "1st Passenger Class\n",
      "Count: 122 Max: 80 Mean: 35.4 Std.Dev.: 13.8\n",
      "2nd Passenger Class\n",
      "Count: 83 Max: 62 Mean: 25.9 Std.Dev.: 14.8\n",
      "3rd Passenger Class\n",
      "Count: 85 Max: 63 Mean: 20.6 Std.Dev.: 12.0\n",
      "\n",
      "Difference all survivors - all passengers\n",
      "Mean: -1.36\n"
     ]
    }
   ],
   "source": [
    "def survivor_class_age(c):\n",
    "    def survivor_class(c):\n",
    "        return survivors[survivors['Pclass'] == c]\n",
    "    return survivor_class(c)[survivor_class(c)['Age'] != False]['Age']\n",
    "\n",
    "print('All Survivors')\n",
    "pr_passenger(survivors[survivors['Age'] != False]['Age'])\n",
    "print(\"1st Passenger Class\")\n",
    "pr_passenger(survivor_class_age('1'))\n",
    "print(\"2nd Passenger Class\")\n",
    "pr_passenger(survivor_class_age('2'))\n",
    "print(\"3rd Passenger Class\")\n",
    "pr_passenger(survivor_class_age('3'))\n",
    "print(\"\")\n",
    "print(\"Difference all survivors - all passengers\")\n",
    "print(\"Mean:\", round(survivors[survivors['Age'] != False]['Age'].mean() - df[df['Age'] != False]['Age'].mean(),2))"
   ]
  },
  {
   "cell_type": "markdown",
   "metadata": {},
   "source": [
    "A look at children aged 0 to 7 and older passengers ages 60 and higher"
   ]
  },
  {
   "cell_type": "code",
   "execution_count": 15,
   "metadata": {
    "collapsed": false
   },
   "outputs": [
    {
     "name": "stdout",
     "output_type": "stream",
     "text": [
      "Children\n",
      "Count: 50 Boys: 26 Girls: 24\n",
      "Survivors Count: 34 Boys: 16 Girls: 18\n",
      "\n",
      "Comparison survival children / not children:\n",
      "Survival rate not children (7+): 38.55 %\n",
      "Survival rate children: 68.00 %\n",
      "Survival rate older passengers 26.92 %\n",
      "Survival rate all passengers 38.38 %\n"
     ]
    }
   ],
   "source": [
    "children = df[df['Age'] != False]\n",
    "children = children[children['Age'] <= 7]\n",
    "adults = df[df['Age'] != False]\n",
    "adults = adults[adults['Age'] > 7]\n",
    "older = df[df['Age'] != False]\n",
    "older = older[older['Age'] >= 60]\n",
    "\n",
    "print(\"Children\")\n",
    "print(\"Count:\", len(children), \"Boys:\", Counter(children['Sex'])['male'], \"Girls:\", Counter(children['Sex'])['female'])\n",
    "print(\"Survivors Count:\", sum(children['Survived']), \n",
    "      \"Boys:\", Counter(children[children['Survived']]['Sex'])['male'], \n",
    "      \"Girls:\", Counter(children[children['Survived']]['Sex'])['female'])\n",
    "print(\"\")\n",
    "print(\"Comparison survival children / not children:\")\n",
    "print(\"Survival rate not children (7+):\", get_percentage(Counter(adults['Survived'])[True], len(adults), with_brackets=False))\n",
    "print(\"Survival rate children:\", get_percentage(Counter(children['Survived'])[True], len(children), with_brackets=False))\n",
    "print(\"Survival rate older passengers\", get_percentage(Counter(older['Survived'])[True], len(older), with_brackets=False))\n",
    "print(\"Survival rate all passengers\", get_percentage(Counter(df['Survived'])[True], len(df), with_brackets=False))"
   ]
  },
  {
   "cell_type": "markdown",
   "metadata": {},
   "source": [
    "At a first look gender and booking class seems to have the biggest effect on the chance of survival. The age of the passenger also seems to have some effect, as the average age of the survivors is lower than of the whole group. At both ends of the age range (children and old passengers) there seems to be big variation. More than two out of three children survived, while only about one out of four older passengers survived."
   ]
  },
  {
   "cell_type": "markdown",
   "metadata": {},
   "source": [
    "## Statistical analysis"
   ]
  },
  {
   "cell_type": "markdown",
   "metadata": {},
   "source": [
    "### Gender\n",
    "\n",
    "I'm testing the effect of gender with a two independent sample t-test with the following hypothesis:\n",
    "\n",
    "Null-Hypothesis: The mean chance of survival in a ship-accident is the same for passengers of both genders. \n",
    "\n",
    "$H_{0}: \\mu(survival)_{males} = \\mu(survival)_{females} $\n",
    "\n",
    "Alternative-Hypothesis: The mean chance of survival in a ship-accident is different for women and men. \n",
    "\n",
    "$H_{1}: \\mu(survival)_{males} \\neq \\mu(survival)_{females} $\n",
    "\n",
    "The following test shows that the Null-Hypothesis can be rejected. A t-statistic of $\\pm$ 19.3 is considered highly significant. It is therefore highly unlikely that this outcome results from chance."
   ]
  },
  {
   "cell_type": "code",
   "execution_count": 16,
   "metadata": {
    "collapsed": false
   },
   "outputs": [
    {
     "name": "stdout",
     "output_type": "stream",
     "text": [
      "Statistics\n",
      "Males - Count: 577 Mean: 0.19 Std.Dv. 0.39\n",
      "Females - Count: 314 Mean: 0.74 Std.Dv. 0.44\n",
      "alpha-level: 0.05\n",
      "t-critical: + or - 1.96 (two tailed test)\n",
      "t-statistic: -19.3\n",
      "p-value: 1.40606613088e-69\n",
      "r_squared: 0.295\n",
      "CI: 0.16 to 0.21\n"
     ]
    }
   ],
   "source": [
    "def show_two_tail_independent_samples_ttest(x, x_label, y, y_label, alpha_level=0.05):\n",
    "    ttest = ttest_ind(x, y)\n",
    "    alpha_twotail = alpha_level / 2\n",
    "    ci_low, ci_high = norm.interval(alpha_level, loc=x.mean(), scale=x.std())\n",
    "    degf = len(x) + len(y) - 2\n",
    "    t_crit = t.isf(alpha_twotail, degf)\n",
    "    \n",
    "    print(\"Statistics\")\n",
    "    print(x_label, \"- Count:\", len(x), \"Mean:\", \"{:.2f}\".format(round(x.mean(), 2)), \"Std.Dv.\", \"{:.2f}\".format(round(x.std(), 2)))\n",
    "    print(y_label, \"- Count:\", len(y), \"Mean:\", \"{:.2f}\".format(round(y.mean(), 2)), \"Std.Dv.\", \"{:.2f}\".format(round(y.std(), 2)))\n",
    "    print(\"alpha-level:\", alpha_level)\n",
    "    print(\"t-critical: + or -\", round(t_crit, 2) , \"(two tailed test)\")\n",
    "    print(\"t-statistic:\", round(ttest[0], 2))\n",
    "    print('p-value:', ttest[1])\n",
    "    print(\"r_squared:\", round(ttest[0]**2 / ( ttest[0] ** 2 + degf), 3))\n",
    "    print(\"CI:\", \"{:.2f}\".format(round(ci_low, 2)), \"to\" ,\"{:.2f}\".format(round(ci_high, 2)))\n",
    "\n",
    "    \n",
    "def test_for_survial_ratio(col, value, x_label, y_label):\n",
    "    show_two_tail_independent_samples_ttest(df[df[col] == value]['Survived'], x_label, \n",
    "                                            df[df[col] != value]['Survived'], y_label)\n",
    "\n",
    "def test_for_numeric(col):\n",
    "    show_two_tail_independent_samples_ttest(df[df['Survived'] == False][col], \"Dead\", \n",
    "                                            df[df['Survived'] == True][col], \"Survivors\")\n",
    "    \n",
    "test_for_survial_ratio('Sex', 'male', \"Males\", \"Females\")"
   ]
  },
  {
   "cell_type": "markdown",
   "metadata": {},
   "source": [
    "### Passenger class (1st class / 2nd and 3rd class)\n",
    "\n",
    "I'm testing the effect of the booking class (passenger class) with a two independent sample t-test with the following hypothesis:\n",
    "\n",
    "Null-Hypothesis: The mean chance of survival in a ship-accident is the same for passengers of all classes. \n",
    "\n",
    "$H_{0}: \\mu(survival)_{1st class} = \\mu(survival)_{other classes} $\n",
    "\n",
    "Alternative-Hypothesis: The mean chance of survival in a ship-accident is different for passengers of the first class and the other classes. \n",
    "\n",
    "$H_{1}: \\mu(survival)_{1st class} \\neq \\mu(survival)_{other classes} $\n",
    "\n",
    "The following test shows that the Null-Hypothesis can be rejected. A t-statistic of $\\pm$ 8.9 is considered highly significant. It is therefore highly unlikely that this outcome results from chance."
   ]
  },
  {
   "cell_type": "code",
   "execution_count": 17,
   "metadata": {
    "collapsed": false
   },
   "outputs": [
    {
     "name": "stdout",
     "output_type": "stream",
     "text": [
      "Statistics\n",
      "1st class - Count: 216 Mean: 0.63 Std.Dv. 0.48\n",
      "2nd and 3rd class - Count: 675 Mean: 0.31 Std.Dv. 0.46\n",
      "alpha-level: 0.05\n",
      "t-critical: + or - 1.96 (two tailed test)\n",
      "t-statistic: 8.9\n",
      "p-value: 3.19058224175e-18\n",
      "r_squared: 0.082\n",
      "CI: 0.60 to 0.66\n"
     ]
    }
   ],
   "source": [
    "test_for_survial_ratio('Pclass', '1', '1st class', '2nd and 3rd class')"
   ]
  },
  {
   "cell_type": "markdown",
   "metadata": {},
   "source": [
    "### Passenger class (2nd class / 3rd class)\n",
    "\n",
    "In addition to the test before I'm testing the effect of the booking class with a two independent sample t-test between the 2nd and the third passenger class:\n",
    "\n",
    "$H_{0}: \\mu(survival)_{2nd class} = \\mu(survival)_{3rd class} $\n",
    "\n",
    "$H_{1}: \\mu(survival)_{2nd class} \\neq \\mu(survival)_{3rd class} $\n",
    "\n",
    "The following test shows that the Null-Hypothesis can be rejected. A t-statistic of $\\pm$ 5.93 is considered highly significant. It is therefore highly unlikely that this outcome results from chance."
   ]
  },
  {
   "cell_type": "code",
   "execution_count": 18,
   "metadata": {
    "collapsed": false
   },
   "outputs": [
    {
     "name": "stdout",
     "output_type": "stream",
     "text": [
      "Statistics\n",
      "2nd class - Count: 184 Mean: 0.47 Std.Dv. 0.50\n",
      "3rd class - Count: 491 Mean: 0.24 Std.Dv. 0.43\n",
      "alpha-level: 0.05\n",
      "t-critical: + or - 1.96 (two tailed test)\n",
      "t-statistic: 5.93\n",
      "p-value: 4.82479949515e-09\n",
      "r_squared: 0.05\n",
      "CI: 0.44 to 0.50\n"
     ]
    }
   ],
   "source": [
    "show_two_tail_independent_samples_ttest(df[df['Pclass'] == '2']['Survived'], \"2nd class\",\n",
    "                                       df[df['Pclass'] == '3']['Survived'], \"3rd class\")"
   ]
  },
  {
   "cell_type": "markdown",
   "metadata": {},
   "source": [
    "### Passenger class (1st class /  2nd class)\n",
    "\n",
    "In addition to the test before I'm testing the effect of the booking class with a two independent sample t-test between the 1st and the 2nd passenger class:\n",
    "\n",
    "$H_{0}: \\mu(survival)_{1nd class} = \\mu(survival)_{2nd class} $\n",
    "\n",
    "$H_{1}: \\mu(survival)_{1nd class} \\neq \\mu(survival)_{2nd class} $ \n",
    "\n",
    "The following test shows that the Null-Hypothesis can be rejected. A t-statistic of $\\pm$ 3.18 is considered significant at an alpha level of 0.05 on a two tailed test. Therefore, it is unlikely that this outcome is the results of chance. Although the difference between the 1st class and all classes as well as 2nd to 3rd class seems to be higher."
   ]
  },
  {
   "cell_type": "code",
   "execution_count": 19,
   "metadata": {
    "collapsed": false
   },
   "outputs": [
    {
     "name": "stdout",
     "output_type": "stream",
     "text": [
      "Statistics\n",
      "1st class - Count: 216 Mean: 0.63 Std.Dv. 0.48\n",
      "2nd class - Count: 184 Mean: 0.47 Std.Dv. 0.50\n",
      "alpha-level: 0.05\n",
      "t-critical: + or - 1.97 (two tailed test)\n",
      "t-statistic: 3.18\n",
      "p-value: 0.00159546566684\n",
      "r_squared: 0.025\n",
      "CI: 0.60 to 0.66\n"
     ]
    }
   ],
   "source": [
    "show_two_tail_independent_samples_ttest(df[df['Pclass'] == '1']['Survived'], \"1st class\",\n",
    "                                       df[df['Pclass'] == '2']['Survived'], \"2nd class\")"
   ]
  },
  {
   "cell_type": "markdown",
   "metadata": {},
   "source": [
    "### Passenger class (1st class /  3rd class)\n",
    "\n",
    "Test of the effect of the booking class with a two independent sample t-test between the 1st and the 3rd passenger class:\n",
    "\n",
    "$H_{0}: \\mu(survival)_{1nd class} = \\mu(survival)_{3rd class} $\n",
    "\n",
    "$H_{1}: \\mu(survival)_{1nd class} \\neq \\mu(survival)_{3rd class} $\n",
    "\n",
    "The following test shows that the Null-Hypothesis can be rejected. A t-statistic of $\\pm$ 10.62 is considered highly significant at an alpha level of 0.05 on a two tailed test. Therefore, it is unlikely that this outcome is the results of chance. The difference between the first class and the third booking class show the highest t-statistic."
   ]
  },
  {
   "cell_type": "code",
   "execution_count": 20,
   "metadata": {
    "collapsed": false
   },
   "outputs": [
    {
     "name": "stdout",
     "output_type": "stream",
     "text": [
      "Statistics\n",
      "1st class - Count: 216 Mean: 0.63 Std.Dv. 0.48\n",
      "3nd class - Count: 491 Mean: 0.24 Std.Dv. 0.43\n",
      "alpha-level: 0.05\n",
      "t-critical: + or - 1.96 (two tailed test)\n",
      "t-statistic: 10.62\n",
      "p-value: 1.48039591199e-24\n",
      "r_squared: 0.138\n",
      "CI: 0.60 to 0.66\n"
     ]
    }
   ],
   "source": [
    "show_two_tail_independent_samples_ttest(df[df['Pclass'] == '1']['Survived'], \"1st class\",\n",
    "                                       df[df['Pclass'] == '3']['Survived'], \"3nd class\")"
   ]
  },
  {
   "cell_type": "markdown",
   "metadata": {},
   "source": [
    "### Age\n",
    "\n",
    "Test of the effect of the Survival on the average age of the passengers with a two independent sample t-test between survivors and the not surviving passengers:\n",
    "\n",
    "$H_{0}: \\mu(age)_{survivors} = \\mu(age)_{dead} $\n",
    "\n",
    "$H_{1}: \\mu(age)_{survivors} \\neq \\mu(age)_{dead} $\n",
    "\n",
    "The following test shows a significant t-statistic at $\\pm$ 2.07."
   ]
  },
  {
   "cell_type": "code",
   "execution_count": 21,
   "metadata": {
    "collapsed": false
   },
   "outputs": [
    {
     "name": "stdout",
     "output_type": "stream",
     "text": [
      "Statistics\n",
      "Dead - Count: 424 Mean: 30.63 Std.Dv. 14.17\n",
      "Survivors - Count: 290 Mean: 28.34 Std.Dv. 14.95\n",
      "alpha-level: 0.05\n",
      "t-critical: + or - 1.96 (two tailed test)\n",
      "t-statistic: 2.07\n",
      "p-value: 0.0391246540135\n",
      "r_squared: 0.006\n",
      "CI: 29.74 to 31.51\n"
     ]
    }
   ],
   "source": [
    "show_two_tail_independent_samples_ttest(df_age[df_age['Survived'] == False]['Age'], \"Dead\",\n",
    "                                       df_age[df_age['Survived'] == True]['Age'], \"Survivors\")"
   ]
  },
  {
   "cell_type": "markdown",
   "metadata": {},
   "source": [
    "### Age (Survival children / not children)\n",
    "\n",
    "Test of the effect of the age of the passengers with a two independent sample t-test between children (7 years and younger) and not children (over 7 years):\n",
    "\n",
    "$H_{0}: \\mu(survival)_{children} = \\mu(survival)_{not children} $\n",
    "\n",
    "$H_{1}: \\mu(survival)_{children} \\neq \\mu(survival)_{not children} $\n",
    "\n",
    "The following test shows asignificant t-statistic at $\\pm$ 4.13."
   ]
  },
  {
   "cell_type": "code",
   "execution_count": 22,
   "metadata": {
    "collapsed": false
   },
   "outputs": [
    {
     "name": "stdout",
     "output_type": "stream",
     "text": [
      "Statistics\n",
      "Children - Count: 50 Mean: 0.68 Std.Dv. 0.47\n",
      "Not children - Count: 664 Mean: 0.39 Std.Dv. 0.49\n",
      "alpha-level: 0.05\n",
      "t-critical: + or - 1.96 (two tailed test)\n",
      "t-statistic: 4.13\n",
      "p-value: 4.0345872864e-05\n",
      "r_squared: 0.023\n",
      "CI: 0.65 to 0.71\n"
     ]
    }
   ],
   "source": [
    "df_age = df[df['Age'] != False]\n",
    "\n",
    "show_two_tail_independent_samples_ttest(df_age[df_age['Age'] <= 7]['Survived'], \"Children\",\n",
    "                                       df_age[df_age['Age'] > 7]['Survived'], \"Not children\")"
   ]
  },
  {
   "cell_type": "markdown",
   "metadata": {},
   "source": [
    "### Age (Survival children and adolescent  / not children)\n",
    "\n",
    "Test of the effect of the age of the passengers with a two independent sample t-test between children and adolecent (18 years and younger) and adults (over 18 years):\n",
    "\n",
    "$H_{0}: \\mu(survival)_{childrenandadolescent} = \\mu(survival)_{adults} $\n",
    "\n",
    "$H_{1}: \\mu(survival)_{childrenandadolescent} \\neq \\mu(survival)_{adults} $\n",
    "\n",
    "The following test shows a significant t-statistic at $\\pm$ 2.61. The t-statitic is lower than for the children."
   ]
  },
  {
   "cell_type": "code",
   "execution_count": 23,
   "metadata": {
    "collapsed": false
   },
   "outputs": [
    {
     "name": "stdout",
     "output_type": "stream",
     "text": [
      "Statistics\n",
      "Children - Count: 139 Mean: 0.50 Std.Dv. 0.50\n",
      "Not children - Count: 575 Mean: 0.38 Std.Dv. 0.49\n",
      "alpha-level: 0.05\n",
      "t-critical: + or - 1.96 (two tailed test)\n",
      "t-statistic: 2.62\n",
      "p-value: 0.00910402753214\n",
      "r_squared: 0.01\n",
      "CI: 0.47 to 0.54\n"
     ]
    }
   ],
   "source": [
    "show_two_tail_independent_samples_ttest(df_age[df_age['Age'] <= 18]['Survived'], \"Children\",\n",
    "                                       df_age[df_age['Age'] > 18]['Survived'], \"Not children\")"
   ]
  },
  {
   "cell_type": "markdown",
   "metadata": {},
   "source": [
    "### Age (Survival children and adults / older passengers)\n",
    "\n",
    "Test of the effect of the age of the passengers with a two independent sample t-test between passengers between 0 and 60 years and those 60 and older:\n",
    "\n",
    "$H_{0}: \\mu(survival)_{childrenandadults} = \\mu(survival)_{older passengers} $\n",
    "\n",
    "$H_{1}: \\mu(survival)_{children and adults} \\neq \\mu(survival)_{older passengers} $\n",
    "\n",
    "The following test shows a t-statistic at $\\pm$ 1.45. This is not considered to be statistical significant."
   ]
  },
  {
   "cell_type": "code",
   "execution_count": 24,
   "metadata": {
    "collapsed": false
   },
   "outputs": [
    {
     "name": "stdout",
     "output_type": "stream",
     "text": [
      "Statistics\n",
      "Children and adults - Count: 688 Mean: 0.41 Std.Dv. 0.49\n",
      "Older passengers - Count: 26 Mean: 0.27 Std.Dv. 0.45\n",
      "alpha-level: 0.05\n",
      "t-critical: + or - 1.96 (two tailed test)\n",
      "t-statistic: 1.45\n",
      "p-value: 0.147942559109\n",
      "r_squared: 0.003\n",
      "CI: 0.38 to 0.44\n"
     ]
    }
   ],
   "source": [
    "show_two_tail_independent_samples_ttest(df_age[df_age['Age'] < 60]['Survived'], \"Children and adults\",\n",
    "                                       df_age[df_age['Age'] >= 60]['Survived'], \"Older passengers\")"
   ]
  },
  {
   "cell_type": "markdown",
   "metadata": {},
   "source": [
    "### Siblings and Spouses\n",
    "\n",
    "The following test looks for the average number of siblings and spouses of the surviving and dead passengers.\n",
    "\n",
    "$H_{0}: \\mu(SibSp)_{survivors} = \\mu(SibSp)_{dead} $\n",
    "\n",
    "$H_{1}: \\mu(SibSp)_{survivors} \\neq \\mu(SibSp)_{dead} $\n",
    "\n",
    "The t-statistic at $\\pm$ 1.05 is not considered significant. Therefore we can not reject die null-hypothesis."
   ]
  },
  {
   "cell_type": "code",
   "execution_count": 25,
   "metadata": {
    "collapsed": false
   },
   "outputs": [
    {
     "name": "stdout",
     "output_type": "stream",
     "text": [
      "Statistics\n",
      "Dead - Count: 549 Mean: 0.55 Std.Dv. 1.29\n",
      "Survivors - Count: 342 Mean: 0.47 Std.Dv. 0.71\n",
      "alpha-level: 0.05\n",
      "t-critical: + or - 1.96 (two tailed test)\n",
      "t-statistic: 1.05\n",
      "p-value: 0.292243928698\n",
      "r_squared: 0.001\n",
      "CI: 0.47 to 0.63\n"
     ]
    }
   ],
   "source": [
    "show_two_tail_independent_samples_ttest(df[df['Survived'] == False]['SibSp'], \"Dead\",\n",
    "                                      df[df['Survived'] == True]['SibSp'], \"Survivors\")"
   ]
  },
  {
   "cell_type": "markdown",
   "metadata": {},
   "source": [
    "### Parents and Children\n",
    "\n",
    "The following test looks for the average parents and children both the surviving and the dead had on board.\n",
    "\n",
    "$H_{0}: \\mu(Parch)_{survivors} = \\mu(Parch)_{dead}$\n",
    "\n",
    "$H_{1}: \\mu(Parch)_{survivors} \\neq \\mu(Parch)_{dead}$\n",
    "\n",
    "The t-statistic at $\\pm$ 2.44 is considered significant. Therefore the null-pypothesis can be rejected."
   ]
  },
  {
   "cell_type": "code",
   "execution_count": 26,
   "metadata": {
    "collapsed": false
   },
   "outputs": [
    {
     "name": "stdout",
     "output_type": "stream",
     "text": [
      "Statistics\n",
      "Dead - Count: 549 Mean: 0.33 Std.Dv. 0.82\n",
      "Survivors - Count: 342 Mean: 0.46 Std.Dv. 0.77\n",
      "alpha-level: 0.05\n",
      "t-critical: + or - 1.96 (two tailed test)\n",
      "t-statistic: -2.44\n",
      "p-value: 0.0147992453747\n",
      "r_squared: 0.007\n",
      "CI: 0.28 to 0.38\n"
     ]
    }
   ],
   "source": [
    "show_two_tail_independent_samples_ttest(df[df['Survived'] == False]['Parch'], \"Dead\",\n",
    "                                      df[df['Survived'] == True]['Parch'], \"Survivors\")"
   ]
  },
  {
   "cell_type": "markdown",
   "metadata": {},
   "source": [
    "### Women and Parents & Children"
   ]
  },
  {
   "cell_type": "code",
   "execution_count": 27,
   "metadata": {
    "collapsed": false
   },
   "outputs": [
    {
     "name": "stdout",
     "output_type": "stream",
     "text": [
      "Statistics\n",
      "Men - Count: 577 Mean: 0.24 Std.Dv. 0.61\n",
      "Women - Count: 314 Mean: 0.65 Std.Dv. 1.02\n",
      "alpha-level: 0.05\n",
      "t-critical: + or - 1.96 (two tailed test)\n",
      "t-statistic: -7.55\n",
      "p-value: 1.0739326016e-13\n",
      "r_squared: 0.06\n",
      "CI: 0.20 to 0.27\n"
     ]
    }
   ],
   "source": [
    "show_two_tail_independent_samples_ttest(df[df['Sex'] == 'male']['Parch'], \"Men\",\n",
    "                                      df[df['Sex'] != 'male']['Parch'], \"Women\")"
   ]
  },
  {
   "cell_type": "markdown",
   "metadata": {},
   "source": [
    "### Fare and survival rate\n",
    "\n",
    "Test the median fare payed by the surviving and the dead passengers.\n",
    "\n",
    "$H_{0}: \\mu(Fare)_{survivors} = \\mu(Fare)_{dead}$\n",
    "\n",
    "$H_{1}: \\mu(Fare)_{survivors} \\neq \\mu(Fare)_{dead}$\n",
    "\n",
    "The test shows an significant t-statistic. Therefore the null-hypothesis can be rejected."
   ]
  },
  {
   "cell_type": "code",
   "execution_count": 28,
   "metadata": {
    "collapsed": false
   },
   "outputs": [
    {
     "name": "stdout",
     "output_type": "stream",
     "text": [
      "Statistics\n",
      "Dead - Count: 549 Mean: 22.12 Std.Dv. 31.39\n",
      "Survivors - Count: 342 Mean: 48.40 Std.Dv. 66.60\n",
      "alpha-level: 0.05\n",
      "t-critical: + or - 1.96 (two tailed test)\n",
      "t-statistic: -7.94\n",
      "p-value: 6.12018934192e-15\n",
      "r_squared: 0.066\n",
      "CI: 20.15 to 24.09\n"
     ]
    }
   ],
   "source": [
    "show_two_tail_independent_samples_ttest(df[df['Survived'] == False]['Fare'], \"Dead\",\n",
    "                                      df[df['Survived'] == True]['Fare'], \"Survivors\")"
   ]
  },
  {
   "cell_type": "markdown",
   "metadata": {},
   "source": [
    "### Port of embarkment and survival rate\n",
    "\n",
    "The following three tests show the survival rate of the passengers who embarked at one port compared to the two others. The Cherbourg-passengers survived significantly more often, the Queenstown-passengers seem to lie within the mean and the Southampton-passengers seem to have died more often."
   ]
  },
  {
   "cell_type": "code",
   "execution_count": 29,
   "metadata": {
    "collapsed": false
   },
   "outputs": [
    {
     "name": "stdout",
     "output_type": "stream",
     "text": [
      "Statistics\n",
      "Cherybourg - Count: 168 Mean: 0.55 Std.Dv. 0.50\n",
      "Other Ports - Count: 723 Mean: 0.34 Std.Dv. 0.48\n",
      "alpha-level: 0.05\n",
      "t-critical: + or - 1.96 (two tailed test)\n",
      "t-statistic: 5.09\n",
      "p-value: 4.39715132981e-07\n",
      "r_squared: 0.028\n",
      "CI: 0.52 to 0.58\n",
      "\n",
      "Statistics\n",
      "Queenstown - Count: 77 Mean: 0.39 Std.Dv. 0.49\n",
      "Other Ports - Count: 814 Mean: 0.38 Std.Dv. 0.49\n",
      "alpha-level: 0.05\n",
      "t-critical: + or - 1.96 (two tailed test)\n",
      "t-statistic: 0.11\n",
      "p-value: 0.913353235243\n",
      "r_squared: 0.0\n",
      "CI: 0.36 to 0.42\n",
      "\n",
      "Statistics\n",
      "Southhampton - Count: 644 Mean: 0.34 Std.Dv. 0.47\n",
      "Other Ports - Count: 247 Mean: 0.51 Std.Dv. 0.50\n",
      "alpha-level: 0.05\n",
      "t-critical: + or - 1.96 (two tailed test)\n",
      "t-statistic: -4.7\n",
      "p-value: 3.03611106452e-06\n",
      "r_squared: 0.024\n",
      "CI: 0.31 to 0.37\n"
     ]
    }
   ],
   "source": [
    "show_two_tail_independent_samples_ttest(df[df['Embarked'] == 'C']['Survived'], \"Cherybourg\",\n",
    "                                      df[df['Embarked'] != 'C']['Survived'], \"Other Ports\")\n",
    "print(\"\")\n",
    "show_two_tail_independent_samples_ttest(df[df['Embarked'] == 'Q']['Survived'], \"Queenstown\",\n",
    "                                      df[df['Embarked'] != 'Q']['Survived'], \"Other Ports\")\n",
    "print(\"\")\n",
    "show_two_tail_independent_samples_ttest(df[df['Embarked'] == 'S']['Survived'], \"Southhampton\",\n",
    "                                      df[df['Embarked'] != 'S']['Survived'], \"Other Ports\")"
   ]
  },
  {
   "cell_type": "markdown",
   "metadata": {},
   "source": [
    "## Conclusion\n"
   ]
  },
  {
   "cell_type": "markdown",
   "metadata": {
    "collapsed": true
   },
   "source": [
    "The chance of survival for women and children was in fact significant higher compared to the relevant other groups. As well did the higher booking classes, especially the 1st passenger class, fared significantly better. Other significant findings were the port of embarkation, but there is no visible reason, why the port of embarkation could have possibly influenced the survival chance. It is just, that many 1st class passengers embarked in Cherbourg and many 3rd class passengers in Southampton. The surviving passengers payed a significantly higher fare than the dead. This was to be expected as the higher booking classes payed a higher fare. The higher rate of parents and children on board for the group of the survivor’s correlates with women more often traveling with parents or children.\n",
    "\n",
    "We might speculate why these groups fared better. This does not pro chivalry but is also do not suggest it's absence. Reasons for the higher survival rate of the higher passenger classes might be that these passengers got \"lifeboat-preference\", but it could also mean, that the 1st class passengers had their cabins nearer to the lifeboats, or that they were more educated and therefore better able to follow instructions. With the lower booking classes, we expect a lower socioeconomic status. Therefore, there were probably passengers who were not able to speak English and therefore could not follow instructions.\n",
    "\n",
    "It is hard to even speculate about recommendations. Obviously to send more women and children on board or only allow higher booking classes won't do much good for the safety of shipping. Although from the perspective of an individual booking a cabin in the 1st class might be a safer bet, at least back in the first decades of the 19th century. Not a very helpful advice since the funds to pay for a higher class ticket were probably usually not available. Therefore, the big factors were mainly things the individual could not influence.\n",
    "\n",
    "The obvious recommendations to lower casualties would be safer driving, harder ships, more lifeboats and a crew trained for the evacuation of the entire crew and passengers. Many of these points have since been implemented in international shipping guidelines.\n",
    "\n",
    "\n",
    "\n"
   ]
  }
 ],
 "metadata": {
  "kernelspec": {
   "display_name": "Python [py35]",
   "language": "python",
   "name": "Python [py35]"
  },
  "language_info": {
   "codemirror_mode": {
    "name": "ipython",
    "version": 3.0
   },
   "file_extension": ".py",
   "mimetype": "text/x-python",
   "name": "python",
   "nbconvert_exporter": "python",
   "pygments_lexer": "ipython3",
   "version": "3.5.2"
  }
 },
 "nbformat": 4,
 "nbformat_minor": 0
}